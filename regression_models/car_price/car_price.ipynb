{
 "cells": [
  {
   "cell_type": "markdown",
   "id": "696c2305",
   "metadata": {},
   "source": [
    "## Overview\n",
    "<a href=\"https://archive.ics.uci.edu/ml/datasets/automobile\">Automobile Data Set</a> <br>\n",
    "This data set consists of three types of entities: (a) the specification of an auto in terms of various characteristics, (b) its assigned insurance risk rating, (c) its normalized losses in use as compared to other cars. The second rating corresponds to the degree to which the auto is more risky than its price indicates. Cars are initially assigned a risk factor symbol associated with its price. Then, if it is more risky (or less), this symbol is adjusted by moving it up (or down) the scale. Actuarians call this process \"symboling\". A value of +3 indicates that the auto is risky, -3 that it is probably pretty safe.\n",
    "\n",
    "### Goal\n",
    "The objective is to predict the price of a car brand according to the characteristics of the vehicle.\n",
    "\n",
    "#### The steps are divided into:\n",
    "\n",
    "1. [Step 1: Importing datas](#1)\n",
    "1. [Step 2: Reading and Understanding the Data](#2)\n",
    "1. [Step 3: Data Preparation](#3)\n",
    "1. [Step 4: Model Building](#4)\n",
    "1. [Step 5: Plot result predict](#5)"
   ]
  },
  {
   "cell_type": "markdown",
   "id": "96975037",
   "metadata": {},
   "source": [
    "<h3> DataSet Information:</h3>\n",
    "    \n",
    "1. Car_ID: Unique id of each observation (Interger) <br>\n",
    "\n",
    "2. Symboling: Its assigned insurance risk rating, A value of +3 indicates that the auto is risky, -3 that it is probably pretty safe.(Categorical)<br>\n",
    "\n",
    "4. carCompany: Name of car company (Categorical)<br>\n",
    "\n",
    "5. fueltype: Car fuel type i.e gas or diesel (Categorical)<br>\n",
    "\n",
    "6. aspiration: Aspiration used in a car (Categorical)<br>\n",
    "\n",
    "7. doornumber: Number of doors in a car (Categorical)<br>\n",
    "\n",
    "8. carbody: body of car (Categorical)<br>\n",
    "\n",
    "9. drivewheel: type of drive wheel (Categorical)<br>\n",
    "\n",
    "10. enginelocation: Location of car engine (Categorical)<br>\n",
    "\n",
    "11. wheelbase: Weelbase of car (Numeric)<br>\n",
    "\n",
    "12. carlength: Length of car (Numeric)<br>\n",
    "\n",
    "13. carwidth: Width of car (Numeric)<br>\n",
    "\n",
    "14. carheight: height of car (Numeric)<br>\n",
    "\n",
    "15. curbweight: The weight of a car without occupants or baggage. (Numeric)<br>\n",
    "\n",
    "16. enginetype: Type of engine. (Categorical)<br>\n",
    "\n",
    "17. cylindernumber: cylinder placed in the car (Categorical)<br>\n",
    "\n",
    "18. 1enginesize: Size of car (Numeric)<br>\n",
    "\n",
    "19. fuelsystem: Fuel system of car (Categorical)<br>\n",
    "\n",
    "20. boreratio: Boreratio of car (Numeric)<br>\n",
    "\n",
    "21. stroke: Stroke or volume inside the engine (Numeric)<br>\n",
    "\n",
    "22. compressionratio: compression ratio of car (Numeric)<br>\n",
    "\n",
    "23. horsepower: Horsepower (Numeric)<br>\n",
    "\n",
    "24. peakrpm: car peak rpm (Numeric)<br>\n",
    "\n",
    "25. citympg: Mileage in city (Numeric)<br>\n",
    "\n",
    "26. highwaympg: Mileage on highway (Numeric)<br>\n",
    "\n",
    "27. price(Dependent variable): Price of car (Numeric)<br>"
   ]
  },
  {
   "cell_type": "markdown",
   "id": "d8a20c38",
   "metadata": {},
   "source": [
    "<a id=\"1\"></a> <br>\n",
    "## 1. Imports\n",
    "    importing some necessary libraries."
   ]
  },
  {
   "cell_type": "code",
   "execution_count": 1,
   "id": "d32e472b",
   "metadata": {},
   "outputs": [],
   "source": [
    "import pandas as pd\n",
    "import numpy as np\n",
    "import seaborn as sns\n",
    "import matplotlib.pyplot as plt"
   ]
  },
  {
   "cell_type": "markdown",
   "id": "f0d318c3",
   "metadata": {},
   "source": [
    "<a id=\"2\"></a> <br>\n",
    "## 2. Load and View\n",
    "    Loading and viewing the data."
   ]
  },
  {
   "cell_type": "code",
   "execution_count": 2,
   "id": "8869e691",
   "metadata": {},
   "outputs": [],
   "source": [
    "\n",
    "df = pd.read_csv('./data/CarPrice_Assignment.csv')"
   ]
  },
  {
   "cell_type": "code",
   "execution_count": 3,
   "id": "484ba483",
   "metadata": {},
   "outputs": [
    {
     "data": {
      "text/plain": [
       "(205, 26)"
      ]
     },
     "execution_count": 3,
     "metadata": {},
     "output_type": "execute_result"
    }
   ],
   "source": [
    "df.shape"
   ]
  },
  {
   "cell_type": "markdown",
   "id": "c95126fb",
   "metadata": {},
   "source": [
    "##### some features"
   ]
  },
  {
   "cell_type": "code",
   "execution_count": 4,
   "id": "f0ab8c05",
   "metadata": {},
   "outputs": [
    {
     "data": {
      "text/html": [
       "<div>\n",
       "<style scoped>\n",
       "    .dataframe tbody tr th:only-of-type {\n",
       "        vertical-align: middle;\n",
       "    }\n",
       "\n",
       "    .dataframe tbody tr th {\n",
       "        vertical-align: top;\n",
       "    }\n",
       "\n",
       "    .dataframe thead th {\n",
       "        text-align: right;\n",
       "    }\n",
       "</style>\n",
       "<table border=\"1\" class=\"dataframe\">\n",
       "  <thead>\n",
       "    <tr style=\"text-align: right;\">\n",
       "      <th></th>\n",
       "      <th>car_ID</th>\n",
       "      <th>symboling</th>\n",
       "      <th>CarName</th>\n",
       "      <th>fueltype</th>\n",
       "      <th>aspiration</th>\n",
       "      <th>doornumber</th>\n",
       "      <th>carbody</th>\n",
       "      <th>drivewheel</th>\n",
       "      <th>enginelocation</th>\n",
       "      <th>wheelbase</th>\n",
       "      <th>...</th>\n",
       "      <th>enginesize</th>\n",
       "      <th>fuelsystem</th>\n",
       "      <th>boreratio</th>\n",
       "      <th>stroke</th>\n",
       "      <th>compressionratio</th>\n",
       "      <th>horsepower</th>\n",
       "      <th>peakrpm</th>\n",
       "      <th>citympg</th>\n",
       "      <th>highwaympg</th>\n",
       "      <th>price</th>\n",
       "    </tr>\n",
       "  </thead>\n",
       "  <tbody>\n",
       "    <tr>\n",
       "      <th>0</th>\n",
       "      <td>1</td>\n",
       "      <td>3</td>\n",
       "      <td>alfa-romero giulia</td>\n",
       "      <td>gas</td>\n",
       "      <td>std</td>\n",
       "      <td>two</td>\n",
       "      <td>convertible</td>\n",
       "      <td>rwd</td>\n",
       "      <td>front</td>\n",
       "      <td>88.6</td>\n",
       "      <td>...</td>\n",
       "      <td>130</td>\n",
       "      <td>mpfi</td>\n",
       "      <td>3.47</td>\n",
       "      <td>2.68</td>\n",
       "      <td>9.0</td>\n",
       "      <td>111</td>\n",
       "      <td>5000</td>\n",
       "      <td>21</td>\n",
       "      <td>27</td>\n",
       "      <td>13495.0</td>\n",
       "    </tr>\n",
       "    <tr>\n",
       "      <th>1</th>\n",
       "      <td>2</td>\n",
       "      <td>3</td>\n",
       "      <td>alfa-romero stelvio</td>\n",
       "      <td>gas</td>\n",
       "      <td>std</td>\n",
       "      <td>two</td>\n",
       "      <td>convertible</td>\n",
       "      <td>rwd</td>\n",
       "      <td>front</td>\n",
       "      <td>88.6</td>\n",
       "      <td>...</td>\n",
       "      <td>130</td>\n",
       "      <td>mpfi</td>\n",
       "      <td>3.47</td>\n",
       "      <td>2.68</td>\n",
       "      <td>9.0</td>\n",
       "      <td>111</td>\n",
       "      <td>5000</td>\n",
       "      <td>21</td>\n",
       "      <td>27</td>\n",
       "      <td>16500.0</td>\n",
       "    </tr>\n",
       "    <tr>\n",
       "      <th>2</th>\n",
       "      <td>3</td>\n",
       "      <td>1</td>\n",
       "      <td>alfa-romero Quadrifoglio</td>\n",
       "      <td>gas</td>\n",
       "      <td>std</td>\n",
       "      <td>two</td>\n",
       "      <td>hatchback</td>\n",
       "      <td>rwd</td>\n",
       "      <td>front</td>\n",
       "      <td>94.5</td>\n",
       "      <td>...</td>\n",
       "      <td>152</td>\n",
       "      <td>mpfi</td>\n",
       "      <td>2.68</td>\n",
       "      <td>3.47</td>\n",
       "      <td>9.0</td>\n",
       "      <td>154</td>\n",
       "      <td>5000</td>\n",
       "      <td>19</td>\n",
       "      <td>26</td>\n",
       "      <td>16500.0</td>\n",
       "    </tr>\n",
       "    <tr>\n",
       "      <th>3</th>\n",
       "      <td>4</td>\n",
       "      <td>2</td>\n",
       "      <td>audi 100 ls</td>\n",
       "      <td>gas</td>\n",
       "      <td>std</td>\n",
       "      <td>four</td>\n",
       "      <td>sedan</td>\n",
       "      <td>fwd</td>\n",
       "      <td>front</td>\n",
       "      <td>99.8</td>\n",
       "      <td>...</td>\n",
       "      <td>109</td>\n",
       "      <td>mpfi</td>\n",
       "      <td>3.19</td>\n",
       "      <td>3.40</td>\n",
       "      <td>10.0</td>\n",
       "      <td>102</td>\n",
       "      <td>5500</td>\n",
       "      <td>24</td>\n",
       "      <td>30</td>\n",
       "      <td>13950.0</td>\n",
       "    </tr>\n",
       "    <tr>\n",
       "      <th>4</th>\n",
       "      <td>5</td>\n",
       "      <td>2</td>\n",
       "      <td>audi 100ls</td>\n",
       "      <td>gas</td>\n",
       "      <td>std</td>\n",
       "      <td>four</td>\n",
       "      <td>sedan</td>\n",
       "      <td>4wd</td>\n",
       "      <td>front</td>\n",
       "      <td>99.4</td>\n",
       "      <td>...</td>\n",
       "      <td>136</td>\n",
       "      <td>mpfi</td>\n",
       "      <td>3.19</td>\n",
       "      <td>3.40</td>\n",
       "      <td>8.0</td>\n",
       "      <td>115</td>\n",
       "      <td>5500</td>\n",
       "      <td>18</td>\n",
       "      <td>22</td>\n",
       "      <td>17450.0</td>\n",
       "    </tr>\n",
       "  </tbody>\n",
       "</table>\n",
       "<p>5 rows × 26 columns</p>\n",
       "</div>"
      ],
      "text/plain": [
       "   car_ID  symboling                   CarName fueltype aspiration doornumber  \\\n",
       "0       1          3        alfa-romero giulia      gas        std        two   \n",
       "1       2          3       alfa-romero stelvio      gas        std        two   \n",
       "2       3          1  alfa-romero Quadrifoglio      gas        std        two   \n",
       "3       4          2               audi 100 ls      gas        std       four   \n",
       "4       5          2                audi 100ls      gas        std       four   \n",
       "\n",
       "       carbody drivewheel enginelocation  wheelbase  ...  enginesize  \\\n",
       "0  convertible        rwd          front       88.6  ...         130   \n",
       "1  convertible        rwd          front       88.6  ...         130   \n",
       "2    hatchback        rwd          front       94.5  ...         152   \n",
       "3        sedan        fwd          front       99.8  ...         109   \n",
       "4        sedan        4wd          front       99.4  ...         136   \n",
       "\n",
       "   fuelsystem  boreratio  stroke compressionratio horsepower  peakrpm citympg  \\\n",
       "0        mpfi       3.47    2.68              9.0        111     5000      21   \n",
       "1        mpfi       3.47    2.68              9.0        111     5000      21   \n",
       "2        mpfi       2.68    3.47              9.0        154     5000      19   \n",
       "3        mpfi       3.19    3.40             10.0        102     5500      24   \n",
       "4        mpfi       3.19    3.40              8.0        115     5500      18   \n",
       "\n",
       "   highwaympg    price  \n",
       "0          27  13495.0  \n",
       "1          27  16500.0  \n",
       "2          26  16500.0  \n",
       "3          30  13950.0  \n",
       "4          22  17450.0  \n",
       "\n",
       "[5 rows x 26 columns]"
      ]
     },
     "execution_count": 4,
     "metadata": {},
     "output_type": "execute_result"
    }
   ],
   "source": [
    "\n",
    "df.head()"
   ]
  },
  {
   "cell_type": "markdown",
   "id": "b39b70ac",
   "metadata": {},
   "source": [
    "##### Describe statistics"
   ]
  },
  {
   "cell_type": "code",
   "execution_count": 5,
   "id": "38728e2a",
   "metadata": {},
   "outputs": [
    {
     "data": {
      "text/html": [
       "<div>\n",
       "<style scoped>\n",
       "    .dataframe tbody tr th:only-of-type {\n",
       "        vertical-align: middle;\n",
       "    }\n",
       "\n",
       "    .dataframe tbody tr th {\n",
       "        vertical-align: top;\n",
       "    }\n",
       "\n",
       "    .dataframe thead th {\n",
       "        text-align: right;\n",
       "    }\n",
       "</style>\n",
       "<table border=\"1\" class=\"dataframe\">\n",
       "  <thead>\n",
       "    <tr style=\"text-align: right;\">\n",
       "      <th></th>\n",
       "      <th>count</th>\n",
       "      <th>mean</th>\n",
       "      <th>std</th>\n",
       "      <th>min</th>\n",
       "      <th>25%</th>\n",
       "      <th>50%</th>\n",
       "      <th>75%</th>\n",
       "      <th>max</th>\n",
       "    </tr>\n",
       "  </thead>\n",
       "  <tbody>\n",
       "    <tr>\n",
       "      <th>car_ID</th>\n",
       "      <td>205.0</td>\n",
       "      <td>103.000000</td>\n",
       "      <td>59.322565</td>\n",
       "      <td>1.00</td>\n",
       "      <td>52.00</td>\n",
       "      <td>103.00</td>\n",
       "      <td>154.00</td>\n",
       "      <td>205.00</td>\n",
       "    </tr>\n",
       "    <tr>\n",
       "      <th>symboling</th>\n",
       "      <td>205.0</td>\n",
       "      <td>0.834146</td>\n",
       "      <td>1.245307</td>\n",
       "      <td>-2.00</td>\n",
       "      <td>0.00</td>\n",
       "      <td>1.00</td>\n",
       "      <td>2.00</td>\n",
       "      <td>3.00</td>\n",
       "    </tr>\n",
       "    <tr>\n",
       "      <th>wheelbase</th>\n",
       "      <td>205.0</td>\n",
       "      <td>98.756585</td>\n",
       "      <td>6.021776</td>\n",
       "      <td>86.60</td>\n",
       "      <td>94.50</td>\n",
       "      <td>97.00</td>\n",
       "      <td>102.40</td>\n",
       "      <td>120.90</td>\n",
       "    </tr>\n",
       "    <tr>\n",
       "      <th>carlength</th>\n",
       "      <td>205.0</td>\n",
       "      <td>174.049268</td>\n",
       "      <td>12.337289</td>\n",
       "      <td>141.10</td>\n",
       "      <td>166.30</td>\n",
       "      <td>173.20</td>\n",
       "      <td>183.10</td>\n",
       "      <td>208.10</td>\n",
       "    </tr>\n",
       "    <tr>\n",
       "      <th>carwidth</th>\n",
       "      <td>205.0</td>\n",
       "      <td>65.907805</td>\n",
       "      <td>2.145204</td>\n",
       "      <td>60.30</td>\n",
       "      <td>64.10</td>\n",
       "      <td>65.50</td>\n",
       "      <td>66.90</td>\n",
       "      <td>72.30</td>\n",
       "    </tr>\n",
       "    <tr>\n",
       "      <th>carheight</th>\n",
       "      <td>205.0</td>\n",
       "      <td>53.724878</td>\n",
       "      <td>2.443522</td>\n",
       "      <td>47.80</td>\n",
       "      <td>52.00</td>\n",
       "      <td>54.10</td>\n",
       "      <td>55.50</td>\n",
       "      <td>59.80</td>\n",
       "    </tr>\n",
       "    <tr>\n",
       "      <th>curbweight</th>\n",
       "      <td>205.0</td>\n",
       "      <td>2555.565854</td>\n",
       "      <td>520.680204</td>\n",
       "      <td>1488.00</td>\n",
       "      <td>2145.00</td>\n",
       "      <td>2414.00</td>\n",
       "      <td>2935.00</td>\n",
       "      <td>4066.00</td>\n",
       "    </tr>\n",
       "    <tr>\n",
       "      <th>enginesize</th>\n",
       "      <td>205.0</td>\n",
       "      <td>126.907317</td>\n",
       "      <td>41.642693</td>\n",
       "      <td>61.00</td>\n",
       "      <td>97.00</td>\n",
       "      <td>120.00</td>\n",
       "      <td>141.00</td>\n",
       "      <td>326.00</td>\n",
       "    </tr>\n",
       "    <tr>\n",
       "      <th>boreratio</th>\n",
       "      <td>205.0</td>\n",
       "      <td>3.329756</td>\n",
       "      <td>0.270844</td>\n",
       "      <td>2.54</td>\n",
       "      <td>3.15</td>\n",
       "      <td>3.31</td>\n",
       "      <td>3.58</td>\n",
       "      <td>3.94</td>\n",
       "    </tr>\n",
       "    <tr>\n",
       "      <th>stroke</th>\n",
       "      <td>205.0</td>\n",
       "      <td>3.255415</td>\n",
       "      <td>0.313597</td>\n",
       "      <td>2.07</td>\n",
       "      <td>3.11</td>\n",
       "      <td>3.29</td>\n",
       "      <td>3.41</td>\n",
       "      <td>4.17</td>\n",
       "    </tr>\n",
       "    <tr>\n",
       "      <th>compressionratio</th>\n",
       "      <td>205.0</td>\n",
       "      <td>10.142537</td>\n",
       "      <td>3.972040</td>\n",
       "      <td>7.00</td>\n",
       "      <td>8.60</td>\n",
       "      <td>9.00</td>\n",
       "      <td>9.40</td>\n",
       "      <td>23.00</td>\n",
       "    </tr>\n",
       "    <tr>\n",
       "      <th>horsepower</th>\n",
       "      <td>205.0</td>\n",
       "      <td>104.117073</td>\n",
       "      <td>39.544167</td>\n",
       "      <td>48.00</td>\n",
       "      <td>70.00</td>\n",
       "      <td>95.00</td>\n",
       "      <td>116.00</td>\n",
       "      <td>288.00</td>\n",
       "    </tr>\n",
       "    <tr>\n",
       "      <th>peakrpm</th>\n",
       "      <td>205.0</td>\n",
       "      <td>5125.121951</td>\n",
       "      <td>476.985643</td>\n",
       "      <td>4150.00</td>\n",
       "      <td>4800.00</td>\n",
       "      <td>5200.00</td>\n",
       "      <td>5500.00</td>\n",
       "      <td>6600.00</td>\n",
       "    </tr>\n",
       "    <tr>\n",
       "      <th>citympg</th>\n",
       "      <td>205.0</td>\n",
       "      <td>25.219512</td>\n",
       "      <td>6.542142</td>\n",
       "      <td>13.00</td>\n",
       "      <td>19.00</td>\n",
       "      <td>24.00</td>\n",
       "      <td>30.00</td>\n",
       "      <td>49.00</td>\n",
       "    </tr>\n",
       "    <tr>\n",
       "      <th>highwaympg</th>\n",
       "      <td>205.0</td>\n",
       "      <td>30.751220</td>\n",
       "      <td>6.886443</td>\n",
       "      <td>16.00</td>\n",
       "      <td>25.00</td>\n",
       "      <td>30.00</td>\n",
       "      <td>34.00</td>\n",
       "      <td>54.00</td>\n",
       "    </tr>\n",
       "    <tr>\n",
       "      <th>price</th>\n",
       "      <td>205.0</td>\n",
       "      <td>13276.710571</td>\n",
       "      <td>7988.852332</td>\n",
       "      <td>5118.00</td>\n",
       "      <td>7788.00</td>\n",
       "      <td>10295.00</td>\n",
       "      <td>16503.00</td>\n",
       "      <td>45400.00</td>\n",
       "    </tr>\n",
       "  </tbody>\n",
       "</table>\n",
       "</div>"
      ],
      "text/plain": [
       "                  count          mean          std      min      25%  \\\n",
       "car_ID            205.0    103.000000    59.322565     1.00    52.00   \n",
       "symboling         205.0      0.834146     1.245307    -2.00     0.00   \n",
       "wheelbase         205.0     98.756585     6.021776    86.60    94.50   \n",
       "carlength         205.0    174.049268    12.337289   141.10   166.30   \n",
       "carwidth          205.0     65.907805     2.145204    60.30    64.10   \n",
       "carheight         205.0     53.724878     2.443522    47.80    52.00   \n",
       "curbweight        205.0   2555.565854   520.680204  1488.00  2145.00   \n",
       "enginesize        205.0    126.907317    41.642693    61.00    97.00   \n",
       "boreratio         205.0      3.329756     0.270844     2.54     3.15   \n",
       "stroke            205.0      3.255415     0.313597     2.07     3.11   \n",
       "compressionratio  205.0     10.142537     3.972040     7.00     8.60   \n",
       "horsepower        205.0    104.117073    39.544167    48.00    70.00   \n",
       "peakrpm           205.0   5125.121951   476.985643  4150.00  4800.00   \n",
       "citympg           205.0     25.219512     6.542142    13.00    19.00   \n",
       "highwaympg        205.0     30.751220     6.886443    16.00    25.00   \n",
       "price             205.0  13276.710571  7988.852332  5118.00  7788.00   \n",
       "\n",
       "                       50%       75%       max  \n",
       "car_ID              103.00    154.00    205.00  \n",
       "symboling             1.00      2.00      3.00  \n",
       "wheelbase            97.00    102.40    120.90  \n",
       "carlength           173.20    183.10    208.10  \n",
       "carwidth             65.50     66.90     72.30  \n",
       "carheight            54.10     55.50     59.80  \n",
       "curbweight         2414.00   2935.00   4066.00  \n",
       "enginesize          120.00    141.00    326.00  \n",
       "boreratio             3.31      3.58      3.94  \n",
       "stroke                3.29      3.41      4.17  \n",
       "compressionratio      9.00      9.40     23.00  \n",
       "horsepower           95.00    116.00    288.00  \n",
       "peakrpm            5200.00   5500.00   6600.00  \n",
       "citympg              24.00     30.00     49.00  \n",
       "highwaympg           30.00     34.00     54.00  \n",
       "price             10295.00  16503.00  45400.00  "
      ]
     },
     "execution_count": 5,
     "metadata": {},
     "output_type": "execute_result"
    }
   ],
   "source": [
    "df.describe().T"
   ]
  },
  {
   "cell_type": "markdown",
   "id": "925c44b9",
   "metadata": {},
   "source": [
    "##### extracting make from the values\n"
   ]
  },
  {
   "cell_type": "code",
   "execution_count": 6,
   "id": "73465edf",
   "metadata": {},
   "outputs": [],
   "source": [
    "\n",
    "df[\"make\"] = df['CarName'].str.split(' ', expand=True)[0]"
   ]
  },
  {
   "cell_type": "markdown",
   "id": "f0f68c88",
   "metadata": {},
   "source": [
    "##### unique values in make\n"
   ]
  },
  {
   "cell_type": "code",
   "execution_count": 7,
   "id": "1246b29a",
   "metadata": {},
   "outputs": [
    {
     "data": {
      "text/plain": [
       "array(['alfa-romero', 'audi', 'bmw', 'chevrolet', 'dodge', 'honda',\n",
       "       'isuzu', 'jaguar', 'maxda', 'mazda', 'buick', 'mercury',\n",
       "       'mitsubishi', 'Nissan', 'nissan', 'peugeot', 'plymouth', 'porsche',\n",
       "       'porcshce', 'renault', 'saab', 'subaru', 'toyota', 'toyouta',\n",
       "       'vokswagen', 'volkswagen', 'vw', 'volvo'], dtype=object)"
      ]
     },
     "execution_count": 7,
     "metadata": {},
     "output_type": "execute_result"
    }
   ],
   "source": [
    "df[\"make\"].unique()\n"
   ]
  },
  {
   "cell_type": "markdown",
   "id": "eee26431",
   "metadata": {},
   "source": [
    "##### Correcting type errors in make values:"
   ]
  },
  {
   "cell_type": "code",
   "execution_count": 8,
   "id": "499a6c20",
   "metadata": {},
   "outputs": [],
   "source": [
    "names_mark={\"maxda\":\"mazda\",\n",
    " \"Nissan\":\"nissan\",\n",
    " \"porcshce\":\"porsche\",\n",
    " \"toyouta\":\"toyota\",\n",
    " \"vokswagen\":\"volkswagen\",\n",
    " \"vw\":\"volkswagen\"}"
   ]
  },
  {
   "cell_type": "code",
   "execution_count": 9,
   "id": "238d5ca4",
   "metadata": {},
   "outputs": [],
   "source": [
    "df['make'].replace(names_mark, inplace=True)"
   ]
  },
  {
   "cell_type": "markdown",
   "id": "6a9de903",
   "metadata": {},
   "source": [
    "##### dropping the car name variable\n"
   ]
  },
  {
   "cell_type": "code",
   "execution_count": 10,
   "id": "8c13645a",
   "metadata": {},
   "outputs": [],
   "source": [
    "df.drop(columns=\"CarName\", inplace=True)\n"
   ]
  },
  {
   "cell_type": "markdown",
   "id": "52b14b04",
   "metadata": {},
   "source": [
    "##### visualizing the car make"
   ]
  },
  {
   "cell_type": "code",
   "execution_count": 11,
   "id": "82de85a3",
   "metadata": {},
   "outputs": [
    {
     "data": {
      "image/png": "[encoded data removed]",
      "text/plain": [
       "<Figure size 1080x432 with 1 Axes>"
      ]
     },
     "metadata": {
      "needs_background": "light"
     },
     "output_type": "display_data"
    }
   ],
   "source": [
    "plt.figure(figsize=(15,6))\n",
    "df[\"make\"].value_counts().sort_values(ascending=False).plot.bar()\n",
    "plt.xticks(rotation=90)\n",
    "plt.xlabel(\"Make\", fontweight=\"bold\")\n",
    "plt.ylabel(\"Count\", fontweight=\"bold\")\n",
    "plt.title(\"Countplot of Car Make\", fontweight=\"bold\")\n",
    "plt.show()"
   ]
  },
  {
   "cell_type": "markdown",
   "id": "ad1d04f0",
   "metadata": {},
   "source": [
    "##### creating list of numeric and categorical columns\n"
   ]
  },
  {
   "cell_type": "code",
   "execution_count": 12,
   "id": "78ce6af0",
   "metadata": {},
   "outputs": [],
   "source": [
    "col_num = list(df.select_dtypes(exclude='object'))"
   ]
  },
  {
   "cell_type": "code",
   "execution_count": 13,
   "id": "086528b5",
   "metadata": {},
   "outputs": [
    {
     "data": {
      "text/plain": [
       "['car_ID',\n",
       " 'symboling',\n",
       " 'wheelbase',\n",
       " 'carlength',\n",
       " 'carwidth',\n",
       " 'carheight',\n",
       " 'curbweight',\n",
       " 'enginesize',\n",
       " 'boreratio',\n",
       " 'stroke',\n",
       " 'compressionratio',\n",
       " 'horsepower',\n",
       " 'peakrpm',\n",
       " 'citympg',\n",
       " 'highwaympg',\n",
       " 'price']"
      ]
     },
     "execution_count": 13,
     "metadata": {},
     "output_type": "execute_result"
    }
   ],
   "source": [
    "col_num"
   ]
  },
  {
   "cell_type": "code",
   "execution_count": 14,
   "id": "79fb3066",
   "metadata": {},
   "outputs": [],
   "source": [
    "col_cat = list(df.select_dtypes(include='object'))"
   ]
  },
  {
   "cell_type": "code",
   "execution_count": 15,
   "id": "73fae948",
   "metadata": {},
   "outputs": [
    {
     "data": {
      "text/plain": [
       "['fueltype',\n",
       " 'aspiration',\n",
       " 'doornumber',\n",
       " 'carbody',\n",
       " 'drivewheel',\n",
       " 'enginelocation',\n",
       " 'enginetype',\n",
       " 'cylindernumber',\n",
       " 'fuelsystem',\n",
       " 'make']"
      ]
     },
     "execution_count": 15,
     "metadata": {},
     "output_type": "execute_result"
    }
   ],
   "source": [
    "col_cat"
   ]
  },
  {
   "cell_type": "markdown",
   "id": "9cffec19",
   "metadata": {},
   "source": [
    "##### visualizing the other categorical variables\n"
   ]
  },
  {
   "cell_type": "code",
   "execution_count": 16,
   "id": "63ee5e7c",
   "metadata": {},
   "outputs": [
    {
     "data": {
      "image/png": "[encoded data removed]",
      "text/plain": [
       "<Figure size 1080x1440 with 8 Axes>"
      ]
     },
     "metadata": {
      "needs_background": "light"
     },
     "output_type": "display_data"
    }
   ],
   "source": [
    "plt.figure(figsize=(15,20))\n",
    "for i, col in enumerate(col_cat[:-2], start=1):\n",
    "    plt.subplot(5, 2, i)\n",
    "    sns.countplot(df[col])\n",
    "    plt.xlabel(col, fontweight=\"bold\")\n",
    "plt.show()"
   ]
  },
  {
   "cell_type": "markdown",
   "id": "b68a0cee",
   "metadata": {},
   "source": [
    "##### heatmap to visualize the pearson's correlation matrix between the numeric variables (except price)"
   ]
  },
  {
   "cell_type": "code",
   "execution_count": 17,
   "id": "61dcf570",
   "metadata": {},
   "outputs": [
    {
     "data": {
      "image/png": "[encoded data removed]",
      "text/plain": [
       "<Figure size 864x576 with 2 Axes>"
      ]
     },
     "metadata": {
      "needs_background": "light"
     },
     "output_type": "display_data"
    }
   ],
   "source": [
    "plt.figure(figsize=(12,8))\n",
    "sns.heatmap(df.drop(columns=\"price\").corr(),\n",
    "            annot=True, cmap=\"coolwarm\", \n",
    "            square=True, linewidths=.5, \n",
    "            vmin=-0.6, vmax=1,\n",
    "            mask=np.triu(df.drop(columns=\"price\").corr(),\n",
    "            k=1))\n",
    "plt.show()"
   ]
  },
  {
   "cell_type": "markdown",
   "id": "8d9d750a",
   "metadata": {},
   "source": [
    "##### average price of each make\n"
   ]
  },
  {
   "cell_type": "code",
   "execution_count": 18,
   "id": "cc8d1443",
   "metadata": {},
   "outputs": [
    {
     "data": {
      "image/png": "[encoded data removed]",
      "text/plain": [
       "<Figure size 864x432 with 1 Axes>"
      ]
     },
     "metadata": {
      "needs_background": "light"
     },
     "output_type": "display_data"
    }
   ],
   "source": [
    "df.groupby(\"make\")[\"price\"].mean().sort_values(ascending=False).plot.bar(figsize=(12,6))\n",
    "plt.title(\"Average price of each make\", fontweight=\"bold\")\n",
    "plt.ylabel(\"Price\", fontweight=\"bold\")\n",
    "plt.xlabel(\"Make\", fontweight=\"bold\")\n",
    "plt.show()"
   ]
  },
  {
   "cell_type": "markdown",
   "id": "9f1baed1",
   "metadata": {},
   "source": [
    "##### NaN values"
   ]
  },
  {
   "cell_type": "code",
   "execution_count": 19,
   "id": "a5b90996",
   "metadata": {
    "scrolled": true
   },
   "outputs": [
    {
     "data": {
      "text/plain": [
       "car_ID              0\n",
       "symboling           0\n",
       "fueltype            0\n",
       "aspiration          0\n",
       "doornumber          0\n",
       "carbody             0\n",
       "drivewheel          0\n",
       "enginelocation      0\n",
       "wheelbase           0\n",
       "carlength           0\n",
       "carwidth            0\n",
       "carheight           0\n",
       "curbweight          0\n",
       "enginetype          0\n",
       "cylindernumber      0\n",
       "enginesize          0\n",
       "fuelsystem          0\n",
       "boreratio           0\n",
       "stroke              0\n",
       "compressionratio    0\n",
       "horsepower          0\n",
       "peakrpm             0\n",
       "citympg             0\n",
       "highwaympg          0\n",
       "price               0\n",
       "make                0\n",
       "dtype: int64"
      ]
     },
     "execution_count": 19,
     "metadata": {},
     "output_type": "execute_result"
    }
   ],
   "source": [
    "df.isna().sum()"
   ]
  },
  {
   "cell_type": "markdown",
   "id": "2304e51d",
   "metadata": {},
   "source": [
    "##### Missing values"
   ]
  },
  {
   "cell_type": "code",
   "execution_count": 20,
   "id": "41812fd3",
   "metadata": {},
   "outputs": [
    {
     "data": {
      "text/plain": [
       "car_ID              0\n",
       "symboling           0\n",
       "fueltype            0\n",
       "aspiration          0\n",
       "doornumber          0\n",
       "carbody             0\n",
       "drivewheel          0\n",
       "enginelocation      0\n",
       "wheelbase           0\n",
       "carlength           0\n",
       "carwidth            0\n",
       "carheight           0\n",
       "curbweight          0\n",
       "enginetype          0\n",
       "cylindernumber      0\n",
       "enginesize          0\n",
       "fuelsystem          0\n",
       "boreratio           0\n",
       "stroke              0\n",
       "compressionratio    0\n",
       "horsepower          0\n",
       "peakrpm             0\n",
       "citympg             0\n",
       "highwaympg          0\n",
       "price               0\n",
       "make                0\n",
       "dtype: int64"
      ]
     },
     "execution_count": 20,
     "metadata": {},
     "output_type": "execute_result"
    }
   ],
   "source": [
    "df.isnull().sum()"
   ]
  },
  {
   "cell_type": "markdown",
   "id": "d98fe7c6",
   "metadata": {},
   "source": [
    "##### we need to convert object to categorical"
   ]
  },
  {
   "cell_type": "code",
   "execution_count": 21,
   "id": "21e620a5",
   "metadata": {},
   "outputs": [
    {
     "data": {
      "text/plain": [
       "car_ID                int64\n",
       "symboling             int64\n",
       "fueltype             object\n",
       "aspiration           object\n",
       "doornumber           object\n",
       "carbody              object\n",
       "drivewheel           object\n",
       "enginelocation       object\n",
       "wheelbase           float64\n",
       "carlength           float64\n",
       "carwidth            float64\n",
       "carheight           float64\n",
       "curbweight            int64\n",
       "enginetype           object\n",
       "cylindernumber       object\n",
       "enginesize            int64\n",
       "fuelsystem           object\n",
       "boreratio           float64\n",
       "stroke              float64\n",
       "compressionratio    float64\n",
       "horsepower            int64\n",
       "peakrpm               int64\n",
       "citympg               int64\n",
       "highwaympg            int64\n",
       "price               float64\n",
       "make                 object\n",
       "dtype: object"
      ]
     },
     "execution_count": 21,
     "metadata": {},
     "output_type": "execute_result"
    }
   ],
   "source": [
    "df.dtypes"
   ]
  },
  {
   "cell_type": "markdown",
   "id": "6a33dfc1",
   "metadata": {},
   "source": [
    "<a id=\"3\"></a> <br>\n",
    "## 3. Feature Engineering\n",
    "    Transforming categorical columns."
   ]
  },
  {
   "cell_type": "code",
   "execution_count": 22,
   "id": "c0487e05",
   "metadata": {},
   "outputs": [],
   "source": [
    "from sklearn.preprocessing import LabelEncoder"
   ]
  },
  {
   "cell_type": "code",
   "execution_count": 23,
   "id": "bfb59e33",
   "metadata": {},
   "outputs": [],
   "source": [
    "le = LabelEncoder()"
   ]
  },
  {
   "cell_type": "code",
   "execution_count": 24,
   "id": "ed2ed96d",
   "metadata": {},
   "outputs": [],
   "source": [
    "df2 = df.copy()"
   ]
  },
  {
   "cell_type": "code",
   "execution_count": 25,
   "id": "d90306b9",
   "metadata": {},
   "outputs": [],
   "source": [
    "for column in df2.columns:\n",
    "    if df2[column].dtype == object:\n",
    "        df2[column] = le.fit_transform(df2[column])\n",
    "    else:\n",
    "        pass\n"
   ]
  },
  {
   "cell_type": "code",
   "execution_count": 26,
   "id": "cfa20ff9",
   "metadata": {},
   "outputs": [
    {
     "data": {
      "text/plain": [
       "car_ID                int64\n",
       "symboling             int64\n",
       "fueltype              int64\n",
       "aspiration            int64\n",
       "doornumber            int64\n",
       "carbody               int64\n",
       "drivewheel            int64\n",
       "enginelocation        int64\n",
       "wheelbase           float64\n",
       "carlength           float64\n",
       "carwidth            float64\n",
       "carheight           float64\n",
       "curbweight            int64\n",
       "enginetype            int64\n",
       "cylindernumber        int64\n",
       "enginesize            int64\n",
       "fuelsystem            int64\n",
       "boreratio           float64\n",
       "stroke              float64\n",
       "compressionratio    float64\n",
       "horsepower            int64\n",
       "peakrpm               int64\n",
       "citympg               int64\n",
       "highwaympg            int64\n",
       "price               float64\n",
       "make                  int64\n",
       "dtype: object"
      ]
     },
     "execution_count": 26,
     "metadata": {},
     "output_type": "execute_result"
    }
   ],
   "source": [
    "df2.dtypes"
   ]
  },
  {
   "cell_type": "code",
   "execution_count": 27,
   "id": "93cc5373",
   "metadata": {},
   "outputs": [],
   "source": [
    "df3 = df2.drop(columns=['stroke', 'car_ID', 'symboling', 'price'])"
   ]
  },
  {
   "cell_type": "code",
   "execution_count": 28,
   "id": "5b0435ad",
   "metadata": {},
   "outputs": [],
   "source": [
    "X = df3"
   ]
  },
  {
   "cell_type": "code",
   "execution_count": 29,
   "id": "e4239b08",
   "metadata": {},
   "outputs": [],
   "source": [
    "y=df2['price']\n"
   ]
  },
  {
   "cell_type": "code",
   "execution_count": 30,
   "id": "06189dc5",
   "metadata": {},
   "outputs": [
    {
     "data": {
      "text/plain": [
       "Index(['fueltype', 'aspiration', 'doornumber', 'carbody', 'drivewheel',\n",
       "       'enginelocation', 'wheelbase', 'carlength', 'carwidth', 'carheight',\n",
       "       'curbweight', 'enginetype', 'cylindernumber', 'enginesize',\n",
       "       'fuelsystem', 'boreratio', 'compressionratio', 'horsepower', 'peakrpm',\n",
       "       'citympg', 'highwaympg', 'make'],\n",
       "      dtype='object')"
      ]
     },
     "execution_count": 30,
     "metadata": {},
     "output_type": "execute_result"
    }
   ],
   "source": [
    "X.columns\n"
   ]
  },
  {
   "cell_type": "code",
   "execution_count": 31,
   "id": "0e2bd188",
   "metadata": {},
   "outputs": [
    {
     "data": {
      "text/plain": [
       "(205, 22)"
      ]
     },
     "execution_count": 31,
     "metadata": {},
     "output_type": "execute_result"
    }
   ],
   "source": [
    "X.shape"
   ]
  },
  {
   "cell_type": "code",
   "execution_count": 32,
   "id": "8960e291",
   "metadata": {},
   "outputs": [
    {
     "data": {
      "text/plain": [
       "(205,)"
      ]
     },
     "execution_count": 32,
     "metadata": {},
     "output_type": "execute_result"
    }
   ],
   "source": [
    "y.shape"
   ]
  },
  {
   "cell_type": "markdown",
   "id": "2f0535b5",
   "metadata": {},
   "source": [
    "<a id=\"4\"></a> <br>\n",
    "### 4.  Import Frameworks, split datas, train model and validation.\n",
    "    Here we will import some frameworks, separate the data and train models, after validate them."
   ]
  },
  {
   "cell_type": "code",
   "execution_count": 33,
   "id": "5dcc4d71",
   "metadata": {},
   "outputs": [],
   "source": [
    "from sklearn.model_selection import train_test_split, GridSearchCV\n",
    "from sklearn.metrics import r2_score, mean_squared_error\n"
   ]
  },
  {
   "cell_type": "code",
   "execution_count": 34,
   "id": "200ca705",
   "metadata": {},
   "outputs": [],
   "source": [
    "X_train, X_test, y_train, y_test = train_test_split(X, y, test_size=0.3, random_state=2)"
   ]
  },
  {
   "cell_type": "markdown",
   "id": "d4f7bcca",
   "metadata": {},
   "source": [
    "##### Decision Tree"
   ]
  },
  {
   "cell_type": "code",
   "execution_count": 35,
   "id": "5a442a33",
   "metadata": {},
   "outputs": [],
   "source": [
    "from sklearn.tree import DecisionTreeRegressor"
   ]
  },
  {
   "cell_type": "code",
   "execution_count": 36,
   "id": "07e9fdab",
   "metadata": {},
   "outputs": [
    {
     "data": {
      "text/plain": [
       "DecisionTreeRegressor()"
      ]
     },
     "execution_count": 36,
     "metadata": {},
     "output_type": "execute_result"
    }
   ],
   "source": [
    "dt=DecisionTreeRegressor()\n",
    "dt.fit(X_train, y_train)"
   ]
  },
  {
   "cell_type": "code",
   "execution_count": 37,
   "id": "3310990d",
   "metadata": {},
   "outputs": [
    {
     "name": "stdout",
     "output_type": "stream",
     "text": [
      "R-squared: 0.8129511690372776\n"
     ]
    }
   ],
   "source": [
    "dt_pred = dt.predict(X_test)\n",
    "print(\"R-squared:\", r2_score(dt_pred, y_test))"
   ]
  },
  {
   "cell_type": "markdown",
   "id": "e62e091a",
   "metadata": {},
   "source": [
    "##### XGBRegressor"
   ]
  },
  {
   "cell_type": "code",
   "execution_count": 38,
   "id": "e31b615b",
   "metadata": {},
   "outputs": [],
   "source": [
    "from xgboost import XGBRegressor\n"
   ]
  },
  {
   "cell_type": "code",
   "execution_count": 39,
   "id": "8701163f",
   "metadata": {
    "scrolled": true
   },
   "outputs": [
    {
     "data": {
      "text/plain": [
       "XGBRegressor(base_score=0.5, booster='gbtree', colsample_bylevel=1,\n",
       "             colsample_bynode=1, colsample_bytree=1, gamma=0, gpu_id=-1,\n",
       "             importance_type='gain', interaction_constraints='',\n",
       "             learning_rate=0.300000012, max_delta_step=0, max_depth=6,\n",
       "             min_child_weight=1, missing=nan, monotone_constraints='()',\n",
       "             n_estimators=100, n_jobs=0, num_parallel_tree=1, random_state=0,\n",
       "             reg_alpha=0, reg_lambda=1, scale_pos_weight=1, subsample=1,\n",
       "             tree_method='exact', validate_parameters=1, verbosity=None)"
      ]
     },
     "execution_count": 39,
     "metadata": {},
     "output_type": "execute_result"
    }
   ],
   "source": [
    "xg = XGBRegressor()\n",
    "xg.fit(X_train, y_train)"
   ]
  },
  {
   "cell_type": "code",
   "execution_count": 40,
   "id": "d4c2774b",
   "metadata": {},
   "outputs": [
    {
     "name": "stdout",
     "output_type": "stream",
     "text": [
      "R-squared: 0.8131076622233229\n"
     ]
    }
   ],
   "source": [
    "xg_pred=xg.predict(X_test)\n",
    "print(\"R-squared:\", r2_score(xg_pred, y_test))"
   ]
  },
  {
   "cell_type": "markdown",
   "id": "5c089ee0",
   "metadata": {},
   "source": [
    "##### Random Forest "
   ]
  },
  {
   "cell_type": "code",
   "execution_count": 41,
   "id": "cd1f0b98",
   "metadata": {},
   "outputs": [],
   "source": [
    "from sklearn.ensemble import RandomForestRegressor\n"
   ]
  },
  {
   "cell_type": "code",
   "execution_count": 42,
   "id": "ca64e1bf",
   "metadata": {},
   "outputs": [
    {
     "data": {
      "text/plain": [
       "RandomForestRegressor(random_state=4)"
      ]
     },
     "execution_count": 42,
     "metadata": {},
     "output_type": "execute_result"
    }
   ],
   "source": [
    "rf = RandomForestRegressor(random_state=4)\n",
    "rf.fit(X_train, y_train)"
   ]
  },
  {
   "cell_type": "code",
   "execution_count": 43,
   "id": "b003b8db",
   "metadata": {},
   "outputs": [],
   "source": [
    "rf_pred = rf.predict(X_test)"
   ]
  },
  {
   "cell_type": "code",
   "execution_count": 44,
   "id": "5fb0351f",
   "metadata": {},
   "outputs": [
    {
     "name": "stdout",
     "output_type": "stream",
     "text": [
      "R-squared: 0.840180708649493\n"
     ]
    }
   ],
   "source": [
    "print(\"R-squared:\", r2_score(rf_pred, y_test))"
   ]
  },
  {
   "cell_type": "markdown",
   "id": "a83f58a6",
   "metadata": {},
   "source": [
    "\n",
    "### 4.1 hyperparameter Turning\n",
    "    here I do the hyper parameterization where I test some parameters for the same model."
   ]
  },
  {
   "cell_type": "markdown",
   "id": "9da2bb4b",
   "metadata": {},
   "source": [
    "#### Decision Tree\n"
   ]
  },
  {
   "cell_type": "code",
   "execution_count": 45,
   "id": "2578526d",
   "metadata": {},
   "outputs": [],
   "source": [
    "#created a list from 1 to 15 for max_depth\n",
    "params={\n",
    "    'max_depth': list(range(1,15))\n",
    "}"
   ]
  },
  {
   "cell_type": "code",
   "execution_count": 46,
   "id": "cef5211b",
   "metadata": {},
   "outputs": [],
   "source": [
    "base_dt = DecisionTreeRegressor()"
   ]
  },
  {
   "cell_type": "code",
   "execution_count": 47,
   "id": "308ae29b",
   "metadata": {},
   "outputs": [
    {
     "data": {
      "text/plain": [
       "GridSearchCV(cv=5, estimator=DecisionTreeRegressor(),\n",
       "             param_grid={'max_depth': [1, 2, 3, 4, 5, 6, 7, 8, 9, 10, 11, 12,\n",
       "                                       13, 14]},\n",
       "             return_train_score=True, scoring='r2')"
      ]
     },
     "execution_count": 47,
     "metadata": {},
     "output_type": "execute_result"
    }
   ],
   "source": [
    "#train \n",
    "model_dt = GridSearchCV(estimator=base_dt, param_grid=params, cv=5, scoring='r2', return_train_score=True)\n",
    "model_dt.fit(X_train, y_train)"
   ]
  },
  {
   "cell_type": "code",
   "execution_count": 48,
   "id": "f8b7a9a0",
   "metadata": {},
   "outputs": [
    {
     "data": {
      "image/png": "[encoded data removed]",
      "text/plain": [
       "<Figure size 432x288 with 1 Axes>"
      ]
     },
     "metadata": {
      "needs_background": "light"
     },
     "output_type": "display_data"
    }
   ],
   "source": [
    "#plot\n",
    "pd.DataFrame(model_dt.cv_results_)\n",
    "# train and test scores\n",
    "plt.plot(pd.DataFrame(model_dt.cv_results_)[\"param_max_depth\"], pd.DataFrame(model_dt.cv_results_)[\"mean_test_score\"], label=\"test score\")\n",
    "plt.plot(pd.DataFrame(model_dt.cv_results_)[\"param_max_depth\"], pd.DataFrame(model_dt.cv_results_)[\"mean_train_score\"], label=\"train score\")\n",
    "plt.title(\"Training vs. Test score\")\n",
    "plt.ylabel(\"R-squared\")\n",
    "plt.xlabel(\"Max depth\")\n",
    "plt.legend()\n",
    "plt.grid()\n",
    "plt.show()"
   ]
  },
  {
   "cell_type": "code",
   "execution_count": 49,
   "id": "3eed1888",
   "metadata": {},
   "outputs": [
    {
     "name": "stdout",
     "output_type": "stream",
     "text": [
      "best paramns: {'max_depth': 6}\n",
      "best score: 0.8814384076529219\n"
     ]
    }
   ],
   "source": [
    "print(f'best paramns: {model_dt.best_params_}')\n",
    "print(f'best score: {model_dt.best_score_}')"
   ]
  },
  {
   "cell_type": "markdown",
   "id": "4834b653",
   "metadata": {},
   "source": [
    "##### Insights DecisionTreeRegressor()\n",
    "we can see the best parameter was max_depth with 12 and score 88%."
   ]
  },
  {
   "cell_type": "markdown",
   "id": "564128b5",
   "metadata": {},
   "source": [
    "#### XGBRegressor"
   ]
  },
  {
   "cell_type": "code",
   "execution_count": 50,
   "id": "d736abc1",
   "metadata": {},
   "outputs": [],
   "source": [
    "#define estimators in range 145 to 150\n",
    "parameters = {'n_estimators': list(range(145, 150))}"
   ]
  },
  {
   "cell_type": "code",
   "execution_count": null,
   "id": "ecfcaa07",
   "metadata": {},
   "outputs": [],
   "source": []
  },
  {
   "cell_type": "code",
   "execution_count": 51,
   "id": "2f175caa",
   "metadata": {},
   "outputs": [
    {
     "data": {
      "text/plain": [
       "GridSearchCV(cv=5,\n",
       "             estimator=XGBRegressor(base_score=None, booster=None,\n",
       "                                    colsample_bylevel=None,\n",
       "                                    colsample_bynode=None,\n",
       "                                    colsample_bytree=None, gamma=None,\n",
       "                                    gpu_id=None, importance_type='gain',\n",
       "                                    interaction_constraints=None,\n",
       "                                    learning_rate=None, max_delta_step=None,\n",
       "                                    max_depth=None, min_child_weight=None,\n",
       "                                    missing=nan, monotone_constraints=None,\n",
       "                                    n_estimators=100, n_jobs=None,\n",
       "                                    num_parallel_tree=None, random_state=None,\n",
       "                                    reg_alpha=None, reg_lambda=None,\n",
       "                                    scale_pos_weight=None, subsample=None,\n",
       "                                    tree_method=None, validate_parameters=None,\n",
       "                                    verbosity=None),\n",
       "             param_grid={'n_estimators': [145, 146, 147, 148, 149]},\n",
       "             return_train_score=True, scoring='r2')"
      ]
     },
     "execution_count": 51,
     "metadata": {},
     "output_type": "execute_result"
    }
   ],
   "source": [
    "#train\n",
    "xgb1 = XGBRegressor()\n",
    "model_xgb = GridSearchCV(estimator=xgb1,param_grid=parameters, cv=5, scoring='r2', return_train_score=True )\n",
    "model_xgb.fit(X_train, y_train)"
   ]
  },
  {
   "cell_type": "code",
   "execution_count": 52,
   "id": "27eeee05",
   "metadata": {},
   "outputs": [
    {
     "data": {
      "image/png": "[encoded data removed]",
      "text/plain": [
       "<Figure size 432x288 with 1 Axes>"
      ]
     },
     "metadata": {
      "needs_background": "light"
     },
     "output_type": "display_data"
    }
   ],
   "source": [
    "#plot\n",
    "pd.DataFrame(model_xgb.cv_results_)\n",
    "# train and test scores\n",
    "plt.plot(pd.DataFrame(model_xgb.cv_results_)[\"param_n_estimators\"], pd.DataFrame(model_xgb.cv_results_)[\"mean_test_score\"], label=\"test score\")\n",
    "plt.plot(pd.DataFrame(model_xgb.cv_results_)[\"param_n_estimators\"], pd.DataFrame(model_xgb.cv_results_)[\"mean_train_score\"], label=\"train score\")\n",
    "plt.title(\"Training vs. Test score\")\n",
    "plt.ylabel(\"R-squared\")\n",
    "plt.xlabel(\"Max depth\")\n",
    "plt.legend()\n",
    "plt.grid()\n",
    "plt.show()\n"
   ]
  },
  {
   "cell_type": "code",
   "execution_count": 53,
   "id": "31635d47",
   "metadata": {},
   "outputs": [
    {
     "name": "stdout",
     "output_type": "stream",
     "text": [
      "best paramns: {'n_estimators': 145}\n",
      "best score: 0.8858585208112411 \n"
     ]
    }
   ],
   "source": [
    "print(f'best paramns: {model_xgb.best_params_}')\n",
    "print(f'best score: {model_xgb.best_score_} ')"
   ]
  },
  {
   "cell_type": "markdown",
   "id": "772f9a84",
   "metadata": {},
   "source": [
    "##### Insights XGBRegressor()\n",
    "we can see the best parameter was n_estimator with 145 and score 88%."
   ]
  },
  {
   "cell_type": "markdown",
   "id": "f83277d2",
   "metadata": {},
   "source": [
    "#### Random Forest "
   ]
  },
  {
   "cell_type": "code",
   "execution_count": 54,
   "id": "be9da514",
   "metadata": {},
   "outputs": [],
   "source": [
    "params_rf = {\n",
    "    'n_estimators': list(range(10, 15, 2)),\n",
    "    'criterion': ['mse', 'mae']\n",
    "}"
   ]
  },
  {
   "cell_type": "code",
   "execution_count": 55,
   "id": "a1c9a6c2",
   "metadata": {},
   "outputs": [],
   "source": [
    "rf1=RandomForestRegressor()"
   ]
  },
  {
   "cell_type": "code",
   "execution_count": 56,
   "id": "1cbcfd36",
   "metadata": {},
   "outputs": [],
   "source": [
    "model_rf= GridSearchCV(estimator=rf1, param_grid=params_rf, cv=5, scoring='r2', return_train_score=True)\n",
    "model_rf.fit(X_train, y_train)\n",
    "rf_pred=model_rf.predict(X_test)"
   ]
  },
  {
   "cell_type": "code",
   "execution_count": 57,
   "id": "f1cd6a83",
   "metadata": {},
   "outputs": [
    {
     "data": {
      "image/png": "[encoded data removed]",
      "text/plain": [
       "<Figure size 432x288 with 1 Axes>"
      ]
     },
     "metadata": {
      "needs_background": "light"
     },
     "output_type": "display_data"
    }
   ],
   "source": [
    "pd.DataFrame(model_rf.cv_results_)\n",
    "\n",
    "# train and test scores\n",
    "plt.plot(pd.DataFrame(model_rf.cv_results_)[\"param_n_estimators\"], pd.DataFrame(model_rf.cv_results_)[\"mean_test_score\"], label=\"test score\")\n",
    "plt.plot(pd.DataFrame(model_rf.cv_results_)[\"param_n_estimators\"], pd.DataFrame(model_rf.cv_results_)[\"mean_train_score\"], label=\"train score\")\n",
    "plt.title(\"Training vs. Test score\")\n",
    "plt.ylabel(\"R-squared\")\n",
    "plt.xlabel(\"Max depth\")\n",
    "plt.legend()\n",
    "plt.grid()\n",
    "plt.show()"
   ]
  },
  {
   "cell_type": "code",
   "execution_count": 58,
   "id": "5f2ec322",
   "metadata": {},
   "outputs": [
    {
     "name": "stdout",
     "output_type": "stream",
     "text": [
      "best paramns: {'criterion': 'mse', 'n_estimators': 14}\n",
      "best score: 0.909620886929997\n"
     ]
    }
   ],
   "source": [
    "print(f'best paramns: {model_rf.best_params_}')\n",
    "print(f'best score: {model_rf.best_score_}')"
   ]
  },
  {
   "cell_type": "markdown",
   "id": "acc184b0",
   "metadata": {},
   "source": [
    "##### Insights Random Forest()\n",
    "    we can see the best parameter was criterion: 'mse', n_estimators: 10 and score ~ 91%."
   ]
  },
  {
   "cell_type": "markdown",
   "id": "04c8253a",
   "metadata": {},
   "source": [
    "<a id=\"5\"></a> <br>\n",
    "## 5. Plot predict"
   ]
  },
  {
   "cell_type": "code",
   "execution_count": 59,
   "id": "9743362c",
   "metadata": {},
   "outputs": [],
   "source": [
    "yvspred = pd.DataFrame({\"y_test\":y_test,\"Predicted\":rf_pred})"
   ]
  },
  {
   "cell_type": "code",
   "execution_count": 60,
   "id": "feb1f292",
   "metadata": {},
   "outputs": [
    {
     "data": {
      "text/html": [
       "<div>\n",
       "<style scoped>\n",
       "    .dataframe tbody tr th:only-of-type {\n",
       "        vertical-align: middle;\n",
       "    }\n",
       "\n",
       "    .dataframe tbody tr th {\n",
       "        vertical-align: top;\n",
       "    }\n",
       "\n",
       "    .dataframe thead th {\n",
       "        text-align: right;\n",
       "    }\n",
       "</style>\n",
       "<table border=\"1\" class=\"dataframe\">\n",
       "  <thead>\n",
       "    <tr style=\"text-align: right;\">\n",
       "      <th></th>\n",
       "      <th>y_test</th>\n",
       "      <th>Predicted</th>\n",
       "    </tr>\n",
       "  </thead>\n",
       "  <tbody>\n",
       "    <tr>\n",
       "      <th>25</th>\n",
       "      <td>6692.0</td>\n",
       "      <td>7462.857143</td>\n",
       "    </tr>\n",
       "    <tr>\n",
       "      <th>84</th>\n",
       "      <td>14489.0</td>\n",
       "      <td>14131.142857</td>\n",
       "    </tr>\n",
       "    <tr>\n",
       "      <th>100</th>\n",
       "      <td>9549.0</td>\n",
       "      <td>9668.857143</td>\n",
       "    </tr>\n",
       "    <tr>\n",
       "      <th>10</th>\n",
       "      <td>16430.0</td>\n",
       "      <td>15637.500000</td>\n",
       "    </tr>\n",
       "    <tr>\n",
       "      <th>195</th>\n",
       "      <td>13415.0</td>\n",
       "      <td>16067.142857</td>\n",
       "    </tr>\n",
       "  </tbody>\n",
       "</table>\n",
       "</div>"
      ],
      "text/plain": [
       "      y_test     Predicted\n",
       "25    6692.0   7462.857143\n",
       "84   14489.0  14131.142857\n",
       "100   9549.0   9668.857143\n",
       "10   16430.0  15637.500000\n",
       "195  13415.0  16067.142857"
      ]
     },
     "execution_count": 60,
     "metadata": {},
     "output_type": "execute_result"
    }
   ],
   "source": [
    "yvspred.head()\n"
   ]
  },
  {
   "cell_type": "code",
   "execution_count": 61,
   "id": "8dc0180c",
   "metadata": {},
   "outputs": [
    {
     "data": {
      "image/png": "[encoded data removed]",
      "text/plain": [
       "<Figure size 576x432 with 1 Axes>"
      ]
     },
     "metadata": {
      "needs_background": "light"
     },
     "output_type": "display_data"
    }
   ],
   "source": [
    "plt.figure(figsize=[8,6])\n",
    "sns.regplot(yvspred['Predicted'],yvspred['y_test'], truncate=False)\n",
    "plt.title('Actual vs Predicted')\n",
    "plt.xlabel('Predicted')\n",
    "plt.ylabel('Actual')\n",
    "plt.savefig('predict.png')"
   ]
  }
 ],
 "metadata": {
  "kernelspec": {
   "display_name": "Python 3",
   "language": "python",
   "name": "python3"
  },
  "language_info": {
   "codemirror_mode": {
    "name": "ipython",
    "version": 3
   },
   "file_extension": ".py",
   "mimetype": "text/x-python",
   "name": "python",
   "nbconvert_exporter": "python",
   "pygments_lexer": "ipython3",
   "version": "3.8.5"
  }
 },
 "nbformat": 4,
 "nbformat_minor": 5
}
