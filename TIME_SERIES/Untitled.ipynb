{
 "cells": [
  {
   "cell_type": "code",
   "execution_count": 1,
   "id": "75a18d74-3cd7-4644-bbc2-b6b205991bde",
   "metadata": {},
   "outputs": [],
   "source": [
    "import pandas as pd\n",
    "import numpy as np\n",
    "import matplotlib.pyplot as plt\n",
    "import seaborn as sns\n",
    "from dateutil import parser\n",
    "sns.set_theme(style=\"darkgrid\")\n",
    "\n",
    "from sklearn.preprocessing import StandardScaler\n",
    "from sklearn.cluster import KMeans"
   ]
  },
  {
   "cell_type": "markdown",
   "id": "d104d123-e0f3-4d92-a7c3-ad981a98c850",
   "metadata": {},
   "source": [
    "### Objetivos:\n",
    "    - Distancia média por mês (todas modalidades).\n",
    "    - Média de tempo em movimento;\n",
    "    - Agrupar por tipo.\n",
    "    - Série histórica por ano.\n",
    "    - Média das velocidades médias\n",
    "    - Média das velocidades máximas.\n",
    "    - Média das elevações(alto e baixo).\n",
    "    - Agrupamento (k-means)\n",
    "    - Série Temporal"
   ]
  },
  {
   "cell_type": "code",
   "execution_count": 2,
   "id": "a02d610b-7ba5-4652-bcf9-d437ee431f3c",
   "metadata": {},
   "outputs": [],
   "source": [
    "df = pd.read_json('response.json')"
   ]
  },
  {
   "cell_type": "code",
   "execution_count": 3,
   "id": "563e19c5-2a65-4d4c-bddd-bc5fbabdb761",
   "metadata": {},
   "outputs": [
    {
     "data": {
      "text/html": [
       "<div>\n",
       "<style scoped>\n",
       "    .dataframe tbody tr th:only-of-type {\n",
       "        vertical-align: middle;\n",
       "    }\n",
       "\n",
       "    .dataframe tbody tr th {\n",
       "        vertical-align: top;\n",
       "    }\n",
       "\n",
       "    .dataframe thead th {\n",
       "        text-align: right;\n",
       "    }\n",
       "</style>\n",
       "<table border=\"1\" class=\"dataframe\">\n",
       "  <thead>\n",
       "    <tr style=\"text-align: right;\">\n",
       "      <th></th>\n",
       "      <th>resource_state</th>\n",
       "      <th>athlete</th>\n",
       "      <th>name</th>\n",
       "      <th>distance</th>\n",
       "      <th>moving_time</th>\n",
       "      <th>elapsed_time</th>\n",
       "      <th>total_elevation_gain</th>\n",
       "      <th>type</th>\n",
       "      <th>workout_type</th>\n",
       "      <th>id</th>\n",
       "      <th>...</th>\n",
       "      <th>heartrate_opt_out</th>\n",
       "      <th>display_hide_heartrate_option</th>\n",
       "      <th>elev_high</th>\n",
       "      <th>elev_low</th>\n",
       "      <th>pr_count</th>\n",
       "      <th>total_photo_count</th>\n",
       "      <th>has_kudoed</th>\n",
       "      <th>average_watts</th>\n",
       "      <th>kilojoules</th>\n",
       "      <th>device_watts</th>\n",
       "    </tr>\n",
       "  </thead>\n",
       "  <tbody>\n",
       "    <tr>\n",
       "      <th>0</th>\n",
       "      <td>2</td>\n",
       "      <td>{'id': 31401271, 'resource_state': 1}</td>\n",
       "      <td>Morning Run</td>\n",
       "      <td>7421.4</td>\n",
       "      <td>2382</td>\n",
       "      <td>2382</td>\n",
       "      <td>80</td>\n",
       "      <td>Run</td>\n",
       "      <td>0.0</td>\n",
       "      <td>5256094139</td>\n",
       "      <td>...</td>\n",
       "      <td>False</td>\n",
       "      <td>False</td>\n",
       "      <td>33</td>\n",
       "      <td>1</td>\n",
       "      <td>4</td>\n",
       "      <td>0</td>\n",
       "      <td>False</td>\n",
       "      <td>NaN</td>\n",
       "      <td>NaN</td>\n",
       "      <td>NaN</td>\n",
       "    </tr>\n",
       "    <tr>\n",
       "      <th>1</th>\n",
       "      <td>2</td>\n",
       "      <td>{'id': 31401271, 'resource_state': 1}</td>\n",
       "      <td>Morning Run</td>\n",
       "      <td>3973.0</td>\n",
       "      <td>1241</td>\n",
       "      <td>1241</td>\n",
       "      <td>52</td>\n",
       "      <td>Run</td>\n",
       "      <td>NaN</td>\n",
       "      <td>5256094097</td>\n",
       "      <td>...</td>\n",
       "      <td>False</td>\n",
       "      <td>False</td>\n",
       "      <td>41</td>\n",
       "      <td>9</td>\n",
       "      <td>1</td>\n",
       "      <td>0</td>\n",
       "      <td>False</td>\n",
       "      <td>NaN</td>\n",
       "      <td>NaN</td>\n",
       "      <td>NaN</td>\n",
       "    </tr>\n",
       "    <tr>\n",
       "      <th>2</th>\n",
       "      <td>2</td>\n",
       "      <td>{'id': 31401271, 'resource_state': 1}</td>\n",
       "      <td>Morning Ride</td>\n",
       "      <td>61663.6</td>\n",
       "      <td>8168</td>\n",
       "      <td>8295</td>\n",
       "      <td>259</td>\n",
       "      <td>Ride</td>\n",
       "      <td>NaN</td>\n",
       "      <td>5222905516</td>\n",
       "      <td>...</td>\n",
       "      <td>False</td>\n",
       "      <td>False</td>\n",
       "      <td>53</td>\n",
       "      <td>-1</td>\n",
       "      <td>21</td>\n",
       "      <td>0</td>\n",
       "      <td>False</td>\n",
       "      <td>139.3</td>\n",
       "      <td>1137.7</td>\n",
       "      <td>0.0</td>\n",
       "    </tr>\n",
       "    <tr>\n",
       "      <th>3</th>\n",
       "      <td>2</td>\n",
       "      <td>{'id': 31401271, 'resource_state': 1}</td>\n",
       "      <td>Morning Ride</td>\n",
       "      <td>39816.8</td>\n",
       "      <td>5566</td>\n",
       "      <td>5716</td>\n",
       "      <td>112</td>\n",
       "      <td>Ride</td>\n",
       "      <td>NaN</td>\n",
       "      <td>5222905277</td>\n",
       "      <td>...</td>\n",
       "      <td>False</td>\n",
       "      <td>False</td>\n",
       "      <td>26</td>\n",
       "      <td>-3</td>\n",
       "      <td>1</td>\n",
       "      <td>0</td>\n",
       "      <td>False</td>\n",
       "      <td>116.4</td>\n",
       "      <td>648.1</td>\n",
       "      <td>0.0</td>\n",
       "    </tr>\n",
       "    <tr>\n",
       "      <th>4</th>\n",
       "      <td>2</td>\n",
       "      <td>{'id': 31401271, 'resource_state': 1}</td>\n",
       "      <td>Morning Run</td>\n",
       "      <td>4821.2</td>\n",
       "      <td>1413</td>\n",
       "      <td>1417</td>\n",
       "      <td>28</td>\n",
       "      <td>Run</td>\n",
       "      <td>NaN</td>\n",
       "      <td>5212417470</td>\n",
       "      <td>...</td>\n",
       "      <td>False</td>\n",
       "      <td>False</td>\n",
       "      <td>37</td>\n",
       "      <td>17</td>\n",
       "      <td>5</td>\n",
       "      <td>0</td>\n",
       "      <td>False</td>\n",
       "      <td>NaN</td>\n",
       "      <td>NaN</td>\n",
       "      <td>NaN</td>\n",
       "    </tr>\n",
       "  </tbody>\n",
       "</table>\n",
       "<p>5 rows × 51 columns</p>\n",
       "</div>"
      ],
      "text/plain": [
       "   resource_state                                athlete          name  \\\n",
       "0               2  {'id': 31401271, 'resource_state': 1}   Morning Run   \n",
       "1               2  {'id': 31401271, 'resource_state': 1}   Morning Run   \n",
       "2               2  {'id': 31401271, 'resource_state': 1}  Morning Ride   \n",
       "3               2  {'id': 31401271, 'resource_state': 1}  Morning Ride   \n",
       "4               2  {'id': 31401271, 'resource_state': 1}   Morning Run   \n",
       "\n",
       "   distance  moving_time  elapsed_time  total_elevation_gain  type  \\\n",
       "0    7421.4         2382          2382                    80   Run   \n",
       "1    3973.0         1241          1241                    52   Run   \n",
       "2   61663.6         8168          8295                   259  Ride   \n",
       "3   39816.8         5566          5716                   112  Ride   \n",
       "4    4821.2         1413          1417                    28   Run   \n",
       "\n",
       "   workout_type          id  ... heartrate_opt_out  \\\n",
       "0           0.0  5256094139  ...             False   \n",
       "1           NaN  5256094097  ...             False   \n",
       "2           NaN  5222905516  ...             False   \n",
       "3           NaN  5222905277  ...             False   \n",
       "4           NaN  5212417470  ...             False   \n",
       "\n",
       "   display_hide_heartrate_option elev_high elev_low pr_count  \\\n",
       "0                          False        33        1        4   \n",
       "1                          False        41        9        1   \n",
       "2                          False        53       -1       21   \n",
       "3                          False        26       -3        1   \n",
       "4                          False        37       17        5   \n",
       "\n",
       "   total_photo_count has_kudoed average_watts  kilojoules  device_watts  \n",
       "0                  0      False           NaN         NaN           NaN  \n",
       "1                  0      False           NaN         NaN           NaN  \n",
       "2                  0      False         139.3      1137.7           0.0  \n",
       "3                  0      False         116.4       648.1           0.0  \n",
       "4                  0      False           NaN         NaN           NaN  \n",
       "\n",
       "[5 rows x 51 columns]"
      ]
     },
     "execution_count": 3,
     "metadata": {},
     "output_type": "execute_result"
    }
   ],
   "source": [
    "df.head()"
   ]
  },
  {
   "cell_type": "code",
   "execution_count": 4,
   "id": "a61289c8-6021-4b6f-8e3a-0e7cdcc8e2fd",
   "metadata": {},
   "outputs": [
    {
     "name": "stdout",
     "output_type": "stream",
     "text": [
      "<class 'pandas.core.frame.DataFrame'>\n",
      "RangeIndex: 30 entries, 0 to 29\n",
      "Data columns (total 51 columns):\n",
      " #   Column                         Non-Null Count  Dtype  \n",
      "---  ------                         --------------  -----  \n",
      " 0   resource_state                 30 non-null     int64  \n",
      " 1   athlete                        30 non-null     object \n",
      " 2   name                           30 non-null     object \n",
      " 3   distance                       30 non-null     float64\n",
      " 4   moving_time                    30 non-null     int64  \n",
      " 5   elapsed_time                   30 non-null     int64  \n",
      " 6   total_elevation_gain           30 non-null     int64  \n",
      " 7   type                           30 non-null     object \n",
      " 8   workout_type                   12 non-null     float64\n",
      " 9   id                             30 non-null     int64  \n",
      " 10  external_id                    30 non-null     object \n",
      " 11  upload_id                      30 non-null     int64  \n",
      " 12  start_date                     30 non-null     object \n",
      " 13  start_date_local               30 non-null     object \n",
      " 14  timezone                       30 non-null     object \n",
      " 15  utc_offset                     30 non-null     int64  \n",
      " 16  start_latlng                   30 non-null     object \n",
      " 17  end_latlng                     30 non-null     object \n",
      " 18  location_city                  0 non-null      float64\n",
      " 19  location_state                 0 non-null      float64\n",
      " 20  location_country               30 non-null     object \n",
      " 21  start_latitude                 30 non-null     float64\n",
      " 22  start_longitude                30 non-null     float64\n",
      " 23  achievement_count              30 non-null     int64  \n",
      " 24  kudos_count                    30 non-null     int64  \n",
      " 25  comment_count                  30 non-null     int64  \n",
      " 26  athlete_count                  30 non-null     int64  \n",
      " 27  photo_count                    30 non-null     int64  \n",
      " 28  map                            30 non-null     object \n",
      " 29  trainer                        30 non-null     bool   \n",
      " 30  commute                        30 non-null     bool   \n",
      " 31  manual                         30 non-null     bool   \n",
      " 32  private                        30 non-null     bool   \n",
      " 33  visibility                     30 non-null     object \n",
      " 34  flagged                        30 non-null     bool   \n",
      " 35  gear_id                        29 non-null     object \n",
      " 36  from_accepted_tag              30 non-null     bool   \n",
      " 37  upload_id_str                  30 non-null     int64  \n",
      " 38  average_speed                  30 non-null     float64\n",
      " 39  max_speed                      30 non-null     float64\n",
      " 40  has_heartrate                  30 non-null     bool   \n",
      " 41  heartrate_opt_out              30 non-null     bool   \n",
      " 42  display_hide_heartrate_option  30 non-null     bool   \n",
      " 43  elev_high                      30 non-null     int64  \n",
      " 44  elev_low                       30 non-null     int64  \n",
      " 45  pr_count                       30 non-null     int64  \n",
      " 46  total_photo_count              30 non-null     int64  \n",
      " 47  has_kudoed                     30 non-null     bool   \n",
      " 48  average_watts                  18 non-null     float64\n",
      " 49  kilojoules                     18 non-null     float64\n",
      " 50  device_watts                   18 non-null     float64\n",
      "dtypes: bool(10), float64(11), int64(17), object(13)\n",
      "memory usage: 10.0+ KB\n"
     ]
    }
   ],
   "source": [
    "df.info()"
   ]
  },
  {
   "cell_type": "code",
   "execution_count": 5,
   "id": "8aae5f7a-9077-47d6-9221-97dcf2003830",
   "metadata": {},
   "outputs": [],
   "source": [
    "columns=['distance', 'moving_time','elapsed_time', 'type', 'start_date', 'average_speed', 'max_speed', 'elev_high', 'elev_low', 'id']"
   ]
  },
  {
   "cell_type": "code",
   "execution_count": 6,
   "id": "ad9b3b34-51f8-4450-bea7-648fdbb28f3f",
   "metadata": {},
   "outputs": [],
   "source": [
    "base= df.copy()"
   ]
  },
  {
   "cell_type": "code",
   "execution_count": 7,
   "id": "0055ac32-98a0-4332-9c66-b6ac6dbef9a1",
   "metadata": {},
   "outputs": [],
   "source": [
    "base = base[columns]"
   ]
  },
  {
   "cell_type": "code",
   "execution_count": 8,
   "id": "e327b274-4237-40bc-ad1e-a041270eb453",
   "metadata": {},
   "outputs": [],
   "source": [
    "#distancia media bike por mes"
   ]
  },
  {
   "cell_type": "code",
   "execution_count": 9,
   "id": "b2bd659c-d335-4825-af88-101657736520",
   "metadata": {},
   "outputs": [],
   "source": [
    "def transform_data(date1):\n",
    "    datee=''\n",
    "    date_t = parser.parse(date1)\n",
    "    datee = date_t.date()\n",
    "    return str(datee)"
   ]
  },
  {
   "cell_type": "code",
   "execution_count": 10,
   "id": "130d72bd-206d-4694-a0d0-e6bbbb435abb",
   "metadata": {},
   "outputs": [],
   "source": [
    "base['start_date'] = base['start_date'].apply(lambda x: transform_data(x))"
   ]
  },
  {
   "cell_type": "code",
   "execution_count": 11,
   "id": "8b90b7c6-7aad-4d8e-8612-06c1ac551bf8",
   "metadata": {},
   "outputs": [
    {
     "name": "stdout",
     "output_type": "stream",
     "text": [
      "<class 'pandas.core.frame.DataFrame'>\n",
      "RangeIndex: 30 entries, 0 to 29\n",
      "Data columns (total 10 columns):\n",
      " #   Column         Non-Null Count  Dtype  \n",
      "---  ------         --------------  -----  \n",
      " 0   distance       30 non-null     float64\n",
      " 1   moving_time    30 non-null     int64  \n",
      " 2   elapsed_time   30 non-null     int64  \n",
      " 3   type           30 non-null     object \n",
      " 4   start_date     30 non-null     object \n",
      " 5   average_speed  30 non-null     float64\n",
      " 6   max_speed      30 non-null     float64\n",
      " 7   elev_high      30 non-null     int64  \n",
      " 8   elev_low       30 non-null     int64  \n",
      " 9   id             30 non-null     int64  \n",
      "dtypes: float64(3), int64(5), object(2)\n",
      "memory usage: 2.5+ KB\n"
     ]
    }
   ],
   "source": [
    "base.info()"
   ]
  },
  {
   "cell_type": "code",
   "execution_count": 12,
   "id": "edf9af13-9186-438f-8ebc-b8520dd74375",
   "metadata": {},
   "outputs": [],
   "source": [
    "base.index= pd.to_datetime(base['start_date'])"
   ]
  },
  {
   "cell_type": "code",
   "execution_count": 13,
   "id": "3a31797c-17ea-4c99-a4b9-1002927b7477",
   "metadata": {},
   "outputs": [],
   "source": [
    "base=base.drop('start_date', 1)"
   ]
  },
  {
   "cell_type": "code",
   "execution_count": 14,
   "id": "ef5156dd-12ca-434c-adb1-96fbcab12fbd",
   "metadata": {},
   "outputs": [],
   "source": [
    "base['day'] = base.index.day\n",
    "base['month'] = base.index.month\n",
    "base['year'] = base.index.year\n",
    "base['day_of_week'] = base.index.day_of_week\n"
   ]
  },
  {
   "cell_type": "code",
   "execution_count": 15,
   "id": "ffa90df2-3932-461f-8559-06d52a6a1a61",
   "metadata": {},
   "outputs": [
    {
     "data": {
      "text/html": [
       "<div>\n",
       "<style scoped>\n",
       "    .dataframe tbody tr th:only-of-type {\n",
       "        vertical-align: middle;\n",
       "    }\n",
       "\n",
       "    .dataframe tbody tr th {\n",
       "        vertical-align: top;\n",
       "    }\n",
       "\n",
       "    .dataframe thead th {\n",
       "        text-align: right;\n",
       "    }\n",
       "</style>\n",
       "<table border=\"1\" class=\"dataframe\">\n",
       "  <thead>\n",
       "    <tr style=\"text-align: right;\">\n",
       "      <th></th>\n",
       "      <th>distance</th>\n",
       "      <th>moving_time</th>\n",
       "      <th>elapsed_time</th>\n",
       "      <th>type</th>\n",
       "      <th>average_speed</th>\n",
       "      <th>max_speed</th>\n",
       "      <th>elev_high</th>\n",
       "      <th>elev_low</th>\n",
       "      <th>id</th>\n",
       "      <th>day</th>\n",
       "      <th>month</th>\n",
       "      <th>year</th>\n",
       "      <th>day_of_week</th>\n",
       "    </tr>\n",
       "    <tr>\n",
       "      <th>start_date</th>\n",
       "      <th></th>\n",
       "      <th></th>\n",
       "      <th></th>\n",
       "      <th></th>\n",
       "      <th></th>\n",
       "      <th></th>\n",
       "      <th></th>\n",
       "      <th></th>\n",
       "      <th></th>\n",
       "      <th></th>\n",
       "      <th></th>\n",
       "      <th></th>\n",
       "      <th></th>\n",
       "    </tr>\n",
       "  </thead>\n",
       "  <tbody>\n",
       "    <tr>\n",
       "      <th>2021-05-07</th>\n",
       "      <td>7421.4</td>\n",
       "      <td>2382</td>\n",
       "      <td>2382</td>\n",
       "      <td>Run</td>\n",
       "      <td>3.116</td>\n",
       "      <td>9.7</td>\n",
       "      <td>33</td>\n",
       "      <td>1</td>\n",
       "      <td>5256094139</td>\n",
       "      <td>7</td>\n",
       "      <td>5</td>\n",
       "      <td>2021</td>\n",
       "      <td>4</td>\n",
       "    </tr>\n",
       "    <tr>\n",
       "      <th>2021-05-05</th>\n",
       "      <td>3973.0</td>\n",
       "      <td>1241</td>\n",
       "      <td>1241</td>\n",
       "      <td>Run</td>\n",
       "      <td>3.201</td>\n",
       "      <td>5.9</td>\n",
       "      <td>41</td>\n",
       "      <td>9</td>\n",
       "      <td>5256094097</td>\n",
       "      <td>5</td>\n",
       "      <td>5</td>\n",
       "      <td>2021</td>\n",
       "      <td>2</td>\n",
       "    </tr>\n",
       "    <tr>\n",
       "      <th>2021-05-01</th>\n",
       "      <td>61663.6</td>\n",
       "      <td>8168</td>\n",
       "      <td>8295</td>\n",
       "      <td>Ride</td>\n",
       "      <td>7.549</td>\n",
       "      <td>15.8</td>\n",
       "      <td>53</td>\n",
       "      <td>-1</td>\n",
       "      <td>5222905516</td>\n",
       "      <td>1</td>\n",
       "      <td>5</td>\n",
       "      <td>2021</td>\n",
       "      <td>5</td>\n",
       "    </tr>\n",
       "    <tr>\n",
       "      <th>2021-04-30</th>\n",
       "      <td>39816.8</td>\n",
       "      <td>5566</td>\n",
       "      <td>5716</td>\n",
       "      <td>Ride</td>\n",
       "      <td>7.154</td>\n",
       "      <td>14.0</td>\n",
       "      <td>26</td>\n",
       "      <td>-3</td>\n",
       "      <td>5222905277</td>\n",
       "      <td>30</td>\n",
       "      <td>4</td>\n",
       "      <td>2021</td>\n",
       "      <td>4</td>\n",
       "    </tr>\n",
       "    <tr>\n",
       "      <th>2021-04-29</th>\n",
       "      <td>4821.2</td>\n",
       "      <td>1413</td>\n",
       "      <td>1417</td>\n",
       "      <td>Run</td>\n",
       "      <td>3.412</td>\n",
       "      <td>5.4</td>\n",
       "      <td>37</td>\n",
       "      <td>17</td>\n",
       "      <td>5212417470</td>\n",
       "      <td>29</td>\n",
       "      <td>4</td>\n",
       "      <td>2021</td>\n",
       "      <td>3</td>\n",
       "    </tr>\n",
       "  </tbody>\n",
       "</table>\n",
       "</div>"
      ],
      "text/plain": [
       "            distance  moving_time  elapsed_time  type  average_speed  \\\n",
       "start_date                                                             \n",
       "2021-05-07    7421.4         2382          2382   Run          3.116   \n",
       "2021-05-05    3973.0         1241          1241   Run          3.201   \n",
       "2021-05-01   61663.6         8168          8295  Ride          7.549   \n",
       "2021-04-30   39816.8         5566          5716  Ride          7.154   \n",
       "2021-04-29    4821.2         1413          1417   Run          3.412   \n",
       "\n",
       "            max_speed  elev_high  elev_low          id  day  month  year  \\\n",
       "start_date                                                                 \n",
       "2021-05-07        9.7         33         1  5256094139    7      5  2021   \n",
       "2021-05-05        5.9         41         9  5256094097    5      5  2021   \n",
       "2021-05-01       15.8         53        -1  5222905516    1      5  2021   \n",
       "2021-04-30       14.0         26        -3  5222905277   30      4  2021   \n",
       "2021-04-29        5.4         37        17  5212417470   29      4  2021   \n",
       "\n",
       "            day_of_week  \n",
       "start_date               \n",
       "2021-05-07            4  \n",
       "2021-05-05            2  \n",
       "2021-05-01            5  \n",
       "2021-04-30            4  \n",
       "2021-04-29            3  "
      ]
     },
     "execution_count": 15,
     "metadata": {},
     "output_type": "execute_result"
    }
   ],
   "source": [
    "base.head()"
   ]
  },
  {
   "cell_type": "code",
   "execution_count": 16,
   "id": "cbd8d2ce-bd85-430e-bb90-27be45fb7629",
   "metadata": {},
   "outputs": [],
   "source": [
    "week={\n",
    "    0:'monday',\n",
    "    1:'tuesday',\n",
    "    2:'wednesday',\n",
    "    3:'thursday',\n",
    "    4:'friday',\n",
    "    5:'saturday',\n",
    "    6:'sunday'\n",
    "}"
   ]
  },
  {
   "cell_type": "code",
   "execution_count": 17,
   "id": "652471b1-aa2d-4302-b50b-de65f3593e2a",
   "metadata": {},
   "outputs": [],
   "source": [
    "month_desc={\n",
    "    1:'january',\n",
    "    2:'february',\n",
    "    3:'march',\n",
    "    4:'april',\n",
    "    5:'may',\n",
    "    6:'june'\n",
    "}"
   ]
  },
  {
   "cell_type": "code",
   "execution_count": 18,
   "id": "76838dfa-44ea-411a-9a86-49e4835f7472",
   "metadata": {},
   "outputs": [],
   "source": [
    "base['day_of_week'].replace(week, inplace=True)\n",
    "base['month'].replace(month_desc, inplace=True)"
   ]
  },
  {
   "cell_type": "code",
   "execution_count": 19,
   "id": "423a81e8-a6b2-482d-b07b-208c598f7b30",
   "metadata": {},
   "outputs": [
    {
     "data": {
      "text/html": [
       "<div>\n",
       "<style scoped>\n",
       "    .dataframe tbody tr th:only-of-type {\n",
       "        vertical-align: middle;\n",
       "    }\n",
       "\n",
       "    .dataframe tbody tr th {\n",
       "        vertical-align: top;\n",
       "    }\n",
       "\n",
       "    .dataframe thead th {\n",
       "        text-align: right;\n",
       "    }\n",
       "</style>\n",
       "<table border=\"1\" class=\"dataframe\">\n",
       "  <thead>\n",
       "    <tr style=\"text-align: right;\">\n",
       "      <th></th>\n",
       "      <th>distance</th>\n",
       "      <th>moving_time</th>\n",
       "      <th>elapsed_time</th>\n",
       "      <th>type</th>\n",
       "      <th>average_speed</th>\n",
       "      <th>max_speed</th>\n",
       "      <th>elev_high</th>\n",
       "      <th>elev_low</th>\n",
       "      <th>id</th>\n",
       "      <th>day</th>\n",
       "      <th>month</th>\n",
       "      <th>year</th>\n",
       "      <th>day_of_week</th>\n",
       "    </tr>\n",
       "    <tr>\n",
       "      <th>start_date</th>\n",
       "      <th></th>\n",
       "      <th></th>\n",
       "      <th></th>\n",
       "      <th></th>\n",
       "      <th></th>\n",
       "      <th></th>\n",
       "      <th></th>\n",
       "      <th></th>\n",
       "      <th></th>\n",
       "      <th></th>\n",
       "      <th></th>\n",
       "      <th></th>\n",
       "      <th></th>\n",
       "    </tr>\n",
       "  </thead>\n",
       "  <tbody>\n",
       "    <tr>\n",
       "      <th>2021-05-07</th>\n",
       "      <td>7421.4</td>\n",
       "      <td>2382</td>\n",
       "      <td>2382</td>\n",
       "      <td>Run</td>\n",
       "      <td>3.116</td>\n",
       "      <td>9.7</td>\n",
       "      <td>33</td>\n",
       "      <td>1</td>\n",
       "      <td>5256094139</td>\n",
       "      <td>7</td>\n",
       "      <td>may</td>\n",
       "      <td>2021</td>\n",
       "      <td>friday</td>\n",
       "    </tr>\n",
       "    <tr>\n",
       "      <th>2021-05-05</th>\n",
       "      <td>3973.0</td>\n",
       "      <td>1241</td>\n",
       "      <td>1241</td>\n",
       "      <td>Run</td>\n",
       "      <td>3.201</td>\n",
       "      <td>5.9</td>\n",
       "      <td>41</td>\n",
       "      <td>9</td>\n",
       "      <td>5256094097</td>\n",
       "      <td>5</td>\n",
       "      <td>may</td>\n",
       "      <td>2021</td>\n",
       "      <td>wednesday</td>\n",
       "    </tr>\n",
       "    <tr>\n",
       "      <th>2021-05-01</th>\n",
       "      <td>61663.6</td>\n",
       "      <td>8168</td>\n",
       "      <td>8295</td>\n",
       "      <td>Ride</td>\n",
       "      <td>7.549</td>\n",
       "      <td>15.8</td>\n",
       "      <td>53</td>\n",
       "      <td>-1</td>\n",
       "      <td>5222905516</td>\n",
       "      <td>1</td>\n",
       "      <td>may</td>\n",
       "      <td>2021</td>\n",
       "      <td>saturday</td>\n",
       "    </tr>\n",
       "    <tr>\n",
       "      <th>2021-04-30</th>\n",
       "      <td>39816.8</td>\n",
       "      <td>5566</td>\n",
       "      <td>5716</td>\n",
       "      <td>Ride</td>\n",
       "      <td>7.154</td>\n",
       "      <td>14.0</td>\n",
       "      <td>26</td>\n",
       "      <td>-3</td>\n",
       "      <td>5222905277</td>\n",
       "      <td>30</td>\n",
       "      <td>april</td>\n",
       "      <td>2021</td>\n",
       "      <td>friday</td>\n",
       "    </tr>\n",
       "    <tr>\n",
       "      <th>2021-04-29</th>\n",
       "      <td>4821.2</td>\n",
       "      <td>1413</td>\n",
       "      <td>1417</td>\n",
       "      <td>Run</td>\n",
       "      <td>3.412</td>\n",
       "      <td>5.4</td>\n",
       "      <td>37</td>\n",
       "      <td>17</td>\n",
       "      <td>5212417470</td>\n",
       "      <td>29</td>\n",
       "      <td>april</td>\n",
       "      <td>2021</td>\n",
       "      <td>thursday</td>\n",
       "    </tr>\n",
       "  </tbody>\n",
       "</table>\n",
       "</div>"
      ],
      "text/plain": [
       "            distance  moving_time  elapsed_time  type  average_speed  \\\n",
       "start_date                                                             \n",
       "2021-05-07    7421.4         2382          2382   Run          3.116   \n",
       "2021-05-05    3973.0         1241          1241   Run          3.201   \n",
       "2021-05-01   61663.6         8168          8295  Ride          7.549   \n",
       "2021-04-30   39816.8         5566          5716  Ride          7.154   \n",
       "2021-04-29    4821.2         1413          1417   Run          3.412   \n",
       "\n",
       "            max_speed  elev_high  elev_low          id  day  month  year  \\\n",
       "start_date                                                                 \n",
       "2021-05-07        9.7         33         1  5256094139    7    may  2021   \n",
       "2021-05-05        5.9         41         9  5256094097    5    may  2021   \n",
       "2021-05-01       15.8         53        -1  5222905516    1    may  2021   \n",
       "2021-04-30       14.0         26        -3  5222905277   30  april  2021   \n",
       "2021-04-29        5.4         37        17  5212417470   29  april  2021   \n",
       "\n",
       "           day_of_week  \n",
       "start_date              \n",
       "2021-05-07      friday  \n",
       "2021-05-05   wednesday  \n",
       "2021-05-01    saturday  \n",
       "2021-04-30      friday  \n",
       "2021-04-29    thursday  "
      ]
     },
     "execution_count": 19,
     "metadata": {},
     "output_type": "execute_result"
    }
   ],
   "source": [
    "base.head()"
   ]
  },
  {
   "cell_type": "code",
   "execution_count": 20,
   "id": "50c2f8f1-38f5-43b4-9041-641d55b45f5a",
   "metadata": {},
   "outputs": [
    {
     "data": {
      "image/png": "[encoded data removed]",
      "text/plain": [
       "<Figure size 1368x288 with 2 Axes>"
      ]
     },
     "metadata": {},
     "output_type": "display_data"
    }
   ],
   "source": [
    "#distance X type and count X type\n",
    "fig, (axis1, axis2) = plt.subplots(1,2, figsize=(19,4))\n",
    "sns.barplot(x='type', y='distance', data=base, ax=axis1)\n",
    "sns.countplot(x='type', data=base, ax=axis2);"
   ]
  },
  {
   "cell_type": "code",
   "execution_count": 21,
   "id": "03a1404e-9903-44a0-bf4a-f7b8b207f907",
   "metadata": {},
   "outputs": [
    {
     "data": {
      "image/png": "[encoded data removed]",
      "text/plain": [
       "<Figure size 1440x360 with 2 Axes>"
      ]
     },
     "metadata": {},
     "output_type": "display_data"
    }
   ],
   "source": [
    "fig, (axis1, axis2) = plt.subplots(1,2, figsize=(20,5))\n",
    "sns.barplot(x='day', y='distance', data=base, ax=axis1, hue='type')\n",
    "sns.countplot(x='day', data=base, ax=axis2, hue='type');"
   ]
  },
  {
   "cell_type": "code",
   "execution_count": 22,
   "id": "2a9a4029-2a08-41ff-8f30-d16dd401fd16",
   "metadata": {},
   "outputs": [
    {
     "data": {
      "image/png": "[encoded data removed]",
      "text/plain": [
       "<Figure size 1440x360 with 2 Axes>"
      ]
     },
     "metadata": {},
     "output_type": "display_data"
    }
   ],
   "source": [
    "fig, (axis1, axis2) = plt.subplots(1,2, figsize=(20,5))\n",
    "sns.barplot(x='month', y='distance', data=base, ax=axis1, hue='type')\n",
    "sns.countplot(x='month', data=base, ax=axis2, hue='type');"
   ]
  },
  {
   "cell_type": "code",
   "execution_count": 23,
   "id": "ae7e1f4c-ad84-44c1-8860-596b63b00d3a",
   "metadata": {},
   "outputs": [
    {
     "data": {
      "image/png": "[encoded data removed]",
      "text/plain": [
       "<Figure size 1440x360 with 2 Axes>"
      ]
     },
     "metadata": {},
     "output_type": "display_data"
    }
   ],
   "source": [
    "fig, (axis1, axis2) = plt.subplots(1,2, figsize=(20,5))\n",
    "sns.barplot(x='year', y='distance', data=base, ax=axis1)\n",
    "sns.countplot(x='year', data=base, ax=axis2, hue='type');"
   ]
  },
  {
   "cell_type": "markdown",
   "id": "3ac2b2d2-e5c4-4458-9478-bb2509bcc98d",
   "metadata": {},
   "source": [
    "### ----------------------------------------------\n",
    "    -"
   ]
  },
  {
   "cell_type": "code",
   "execution_count": 24,
   "id": "7d8b9827-c5c1-4019-b62e-113473b56a2d",
   "metadata": {},
   "outputs": [],
   "source": [
    "## média tempo em movimento"
   ]
  },
  {
   "cell_type": "code",
   "execution_count": 25,
   "id": "85c81f1b-8af0-45cd-9ddf-da5543a1e367",
   "metadata": {},
   "outputs": [
    {
     "name": "stdout",
     "output_type": "stream",
     "text": [
      "<class 'pandas.core.frame.DataFrame'>\n",
      "DatetimeIndex: 30 entries, 2021-05-07 to 2021-03-24\n",
      "Data columns (total 13 columns):\n",
      " #   Column         Non-Null Count  Dtype  \n",
      "---  ------         --------------  -----  \n",
      " 0   distance       30 non-null     float64\n",
      " 1   moving_time    30 non-null     int64  \n",
      " 2   elapsed_time   30 non-null     int64  \n",
      " 3   type           30 non-null     object \n",
      " 4   average_speed  30 non-null     float64\n",
      " 5   max_speed      30 non-null     float64\n",
      " 6   elev_high      30 non-null     int64  \n",
      " 7   elev_low       30 non-null     int64  \n",
      " 8   id             30 non-null     int64  \n",
      " 9   day            30 non-null     int64  \n",
      " 10  month          30 non-null     object \n",
      " 11  year           30 non-null     int64  \n",
      " 12  day_of_week    30 non-null     object \n",
      "dtypes: float64(3), int64(7), object(3)\n",
      "memory usage: 3.3+ KB\n"
     ]
    }
   ],
   "source": [
    "base.info()"
   ]
  },
  {
   "cell_type": "code",
   "execution_count": 26,
   "id": "f94398c2-dcc4-4c22-9487-0868cbd38dee",
   "metadata": {},
   "outputs": [
    {
     "data": {
      "text/html": [
       "<div>\n",
       "<style scoped>\n",
       "    .dataframe tbody tr th:only-of-type {\n",
       "        vertical-align: middle;\n",
       "    }\n",
       "\n",
       "    .dataframe tbody tr th {\n",
       "        vertical-align: top;\n",
       "    }\n",
       "\n",
       "    .dataframe thead th {\n",
       "        text-align: right;\n",
       "    }\n",
       "</style>\n",
       "<table border=\"1\" class=\"dataframe\">\n",
       "  <thead>\n",
       "    <tr style=\"text-align: right;\">\n",
       "      <th></th>\n",
       "      <th>distance</th>\n",
       "      <th>moving_time</th>\n",
       "      <th>elapsed_time</th>\n",
       "      <th>type</th>\n",
       "      <th>average_speed</th>\n",
       "      <th>max_speed</th>\n",
       "      <th>elev_high</th>\n",
       "      <th>elev_low</th>\n",
       "      <th>id</th>\n",
       "      <th>day</th>\n",
       "      <th>month</th>\n",
       "      <th>year</th>\n",
       "      <th>day_of_week</th>\n",
       "    </tr>\n",
       "    <tr>\n",
       "      <th>start_date</th>\n",
       "      <th></th>\n",
       "      <th></th>\n",
       "      <th></th>\n",
       "      <th></th>\n",
       "      <th></th>\n",
       "      <th></th>\n",
       "      <th></th>\n",
       "      <th></th>\n",
       "      <th></th>\n",
       "      <th></th>\n",
       "      <th></th>\n",
       "      <th></th>\n",
       "      <th></th>\n",
       "    </tr>\n",
       "  </thead>\n",
       "  <tbody>\n",
       "    <tr>\n",
       "      <th>2021-05-07</th>\n",
       "      <td>7421.4</td>\n",
       "      <td>2382</td>\n",
       "      <td>2382</td>\n",
       "      <td>Run</td>\n",
       "      <td>3.116</td>\n",
       "      <td>9.7</td>\n",
       "      <td>33</td>\n",
       "      <td>1</td>\n",
       "      <td>5256094139</td>\n",
       "      <td>7</td>\n",
       "      <td>may</td>\n",
       "      <td>2021</td>\n",
       "      <td>friday</td>\n",
       "    </tr>\n",
       "    <tr>\n",
       "      <th>2021-05-05</th>\n",
       "      <td>3973.0</td>\n",
       "      <td>1241</td>\n",
       "      <td>1241</td>\n",
       "      <td>Run</td>\n",
       "      <td>3.201</td>\n",
       "      <td>5.9</td>\n",
       "      <td>41</td>\n",
       "      <td>9</td>\n",
       "      <td>5256094097</td>\n",
       "      <td>5</td>\n",
       "      <td>may</td>\n",
       "      <td>2021</td>\n",
       "      <td>wednesday</td>\n",
       "    </tr>\n",
       "    <tr>\n",
       "      <th>2021-05-01</th>\n",
       "      <td>61663.6</td>\n",
       "      <td>8168</td>\n",
       "      <td>8295</td>\n",
       "      <td>Ride</td>\n",
       "      <td>7.549</td>\n",
       "      <td>15.8</td>\n",
       "      <td>53</td>\n",
       "      <td>-1</td>\n",
       "      <td>5222905516</td>\n",
       "      <td>1</td>\n",
       "      <td>may</td>\n",
       "      <td>2021</td>\n",
       "      <td>saturday</td>\n",
       "    </tr>\n",
       "    <tr>\n",
       "      <th>2021-04-30</th>\n",
       "      <td>39816.8</td>\n",
       "      <td>5566</td>\n",
       "      <td>5716</td>\n",
       "      <td>Ride</td>\n",
       "      <td>7.154</td>\n",
       "      <td>14.0</td>\n",
       "      <td>26</td>\n",
       "      <td>-3</td>\n",
       "      <td>5222905277</td>\n",
       "      <td>30</td>\n",
       "      <td>april</td>\n",
       "      <td>2021</td>\n",
       "      <td>friday</td>\n",
       "    </tr>\n",
       "    <tr>\n",
       "      <th>2021-04-29</th>\n",
       "      <td>4821.2</td>\n",
       "      <td>1413</td>\n",
       "      <td>1417</td>\n",
       "      <td>Run</td>\n",
       "      <td>3.412</td>\n",
       "      <td>5.4</td>\n",
       "      <td>37</td>\n",
       "      <td>17</td>\n",
       "      <td>5212417470</td>\n",
       "      <td>29</td>\n",
       "      <td>april</td>\n",
       "      <td>2021</td>\n",
       "      <td>thursday</td>\n",
       "    </tr>\n",
       "  </tbody>\n",
       "</table>\n",
       "</div>"
      ],
      "text/plain": [
       "            distance  moving_time  elapsed_time  type  average_speed  \\\n",
       "start_date                                                             \n",
       "2021-05-07    7421.4         2382          2382   Run          3.116   \n",
       "2021-05-05    3973.0         1241          1241   Run          3.201   \n",
       "2021-05-01   61663.6         8168          8295  Ride          7.549   \n",
       "2021-04-30   39816.8         5566          5716  Ride          7.154   \n",
       "2021-04-29    4821.2         1413          1417   Run          3.412   \n",
       "\n",
       "            max_speed  elev_high  elev_low          id  day  month  year  \\\n",
       "start_date                                                                 \n",
       "2021-05-07        9.7         33         1  5256094139    7    may  2021   \n",
       "2021-05-05        5.9         41         9  5256094097    5    may  2021   \n",
       "2021-05-01       15.8         53        -1  5222905516    1    may  2021   \n",
       "2021-04-30       14.0         26        -3  5222905277   30  april  2021   \n",
       "2021-04-29        5.4         37        17  5212417470   29  april  2021   \n",
       "\n",
       "           day_of_week  \n",
       "start_date              \n",
       "2021-05-07      friday  \n",
       "2021-05-05   wednesday  \n",
       "2021-05-01    saturday  \n",
       "2021-04-30      friday  \n",
       "2021-04-29    thursday  "
      ]
     },
     "execution_count": 26,
     "metadata": {},
     "output_type": "execute_result"
    }
   ],
   "source": [
    "\n",
    "base.head()"
   ]
  },
  {
   "cell_type": "code",
   "execution_count": null,
   "id": "f2833c0f-aa78-4b6c-899f-7e0ea5fd0fb3",
   "metadata": {},
   "outputs": [],
   "source": []
  },
  {
   "cell_type": "code",
   "execution_count": 27,
   "id": "003b72bb-e21d-447d-b556-71cb75bea25a",
   "metadata": {},
   "outputs": [
    {
     "data": {
      "image/png": "[encoded data removed]",
      "text/plain": [
       "<Figure size 942.75x595.44 with 1 Axes>"
      ]
     },
     "metadata": {},
     "output_type": "display_data"
    }
   ],
   "source": [
    "sns.relplot(x='elapsed_time', y='distance', hue=\"type\", style='type', data=base, height=8.27, aspect=11.7/8.27, size='average_speed', sizes=(15, 200));\n"
   ]
  },
  {
   "cell_type": "markdown",
   "id": "529f5577-3e85-47a3-8a70-6268fd9e57c5",
   "metadata": {},
   "source": [
    "Objetivos:\n",
    "- ~Distancia média por mês (todas modalidades)~\n",
    "- ~Agrupar por tipo~.\n",
    "- Série histórica por ano.\n",
    "- Média das velocidades médias\n",
    "- Média das velocidades máximas.\n",
    "- Média das elevações(alto e baixo).\n",
    "- Agrupamento (k-means)"
   ]
  },
  {
   "cell_type": "code",
   "execution_count": 28,
   "id": "48850e86-0c42-43fb-bc22-751a5b484f1a",
   "metadata": {},
   "outputs": [
    {
     "data": {
      "image/png": "[encoded data removed]",
      "text/plain": [
       "<Figure size 842.4x595.44 with 1 Axes>"
      ]
     },
     "metadata": {},
     "output_type": "display_data"
    }
   ],
   "source": [
    "g = sns.relplot(x=\"distance\", y=\"elev_high\", kind=\"line\", height=8.27, aspect=11.7/8.27, data=base)\n",
    "g.fig.autofmt_xdate()"
   ]
  },
  {
   "cell_type": "code",
   "execution_count": 29,
   "id": "65982404-49cb-4502-a2f8-196d3ee7bf7e",
   "metadata": {},
   "outputs": [
    {
     "data": {
      "image/png": "[encoded data removed]",
      "text/plain": [
       "<Figure size 909.125x595.44 with 1 Axes>"
      ]
     },
     "metadata": {},
     "output_type": "display_data"
    }
   ],
   "source": [
    "sns.relplot(x=\"month\", y=\"distance\", kind=\"line\", hue='type' ,height=8.27, aspect=11.7/8.27,data=base);\n"
   ]
  },
  {
   "cell_type": "code",
   "execution_count": 30,
   "id": "ff323e54-2fa9-4919-be93-f3dc642f9e3c",
   "metadata": {},
   "outputs": [],
   "source": [
    "###"
   ]
  },
  {
   "cell_type": "code",
   "execution_count": 31,
   "id": "cf78410a-4b6c-44ff-aefd-dcf49a58d0c6",
   "metadata": {},
   "outputs": [],
   "source": [
    "base_cp=base.copy()"
   ]
  },
  {
   "cell_type": "code",
   "execution_count": 32,
   "id": "d55e122c-f3aa-415f-af37-8cdc00f92ae2",
   "metadata": {},
   "outputs": [],
   "source": [
    "# 1 run\n",
    "# 2 ride"
   ]
  },
  {
   "cell_type": "code",
   "execution_count": 33,
   "id": "831e9e7d-59b7-4fb5-b4f8-15d80a5840f4",
   "metadata": {},
   "outputs": [],
   "source": [
    "X_run = base_cp.loc[base_cp['type']=='Run']"
   ]
  },
  {
   "cell_type": "code",
   "execution_count": 34,
   "id": "e745bdc8-d614-424a-bedf-169b4420c81a",
   "metadata": {},
   "outputs": [],
   "source": [
    "X_ride = base_cp.loc[base_cp['type']=='Ride']"
   ]
  },
  {
   "cell_type": "code",
   "execution_count": 35,
   "id": "c9ba7e00-8bf7-4567-803d-d009e48fffe6",
   "metadata": {},
   "outputs": [],
   "source": [
    "X_ride=X_ride.iloc[:, [0,4]]\n",
    "X_run=X_run.iloc[:, [0,4]]"
   ]
  },
  {
   "cell_type": "code",
   "execution_count": 36,
   "id": "db899589-0e2a-4bcb-8a33-03f0d1b5ef3d",
   "metadata": {},
   "outputs": [
    {
     "data": {
      "text/html": [
       "<div>\n",
       "<style scoped>\n",
       "    .dataframe tbody tr th:only-of-type {\n",
       "        vertical-align: middle;\n",
       "    }\n",
       "\n",
       "    .dataframe tbody tr th {\n",
       "        vertical-align: top;\n",
       "    }\n",
       "\n",
       "    .dataframe thead th {\n",
       "        text-align: right;\n",
       "    }\n",
       "</style>\n",
       "<table border=\"1\" class=\"dataframe\">\n",
       "  <thead>\n",
       "    <tr style=\"text-align: right;\">\n",
       "      <th></th>\n",
       "      <th>distance</th>\n",
       "      <th>average_speed</th>\n",
       "    </tr>\n",
       "    <tr>\n",
       "      <th>start_date</th>\n",
       "      <th></th>\n",
       "      <th></th>\n",
       "    </tr>\n",
       "  </thead>\n",
       "  <tbody>\n",
       "    <tr>\n",
       "      <th>2021-05-07</th>\n",
       "      <td>7421.4</td>\n",
       "      <td>3.116</td>\n",
       "    </tr>\n",
       "    <tr>\n",
       "      <th>2021-05-05</th>\n",
       "      <td>3973.0</td>\n",
       "      <td>3.201</td>\n",
       "    </tr>\n",
       "    <tr>\n",
       "      <th>2021-04-29</th>\n",
       "      <td>4821.2</td>\n",
       "      <td>3.412</td>\n",
       "    </tr>\n",
       "    <tr>\n",
       "      <th>2021-04-22</th>\n",
       "      <td>10128.9</td>\n",
       "      <td>2.968</td>\n",
       "    </tr>\n",
       "    <tr>\n",
       "      <th>2021-04-16</th>\n",
       "      <td>4798.3</td>\n",
       "      <td>3.124</td>\n",
       "    </tr>\n",
       "    <tr>\n",
       "      <th>2021-04-12</th>\n",
       "      <td>6101.6</td>\n",
       "      <td>3.102</td>\n",
       "    </tr>\n",
       "    <tr>\n",
       "      <th>2021-04-09</th>\n",
       "      <td>5086.4</td>\n",
       "      <td>2.994</td>\n",
       "    </tr>\n",
       "    <tr>\n",
       "      <th>2021-04-05</th>\n",
       "      <td>6107.2</td>\n",
       "      <td>3.006</td>\n",
       "    </tr>\n",
       "    <tr>\n",
       "      <th>2021-03-31</th>\n",
       "      <td>7058.6</td>\n",
       "      <td>3.146</td>\n",
       "    </tr>\n",
       "    <tr>\n",
       "      <th>2021-03-27</th>\n",
       "      <td>4063.9</td>\n",
       "      <td>2.717</td>\n",
       "    </tr>\n",
       "    <tr>\n",
       "      <th>2021-03-25</th>\n",
       "      <td>8151.4</td>\n",
       "      <td>2.928</td>\n",
       "    </tr>\n",
       "  </tbody>\n",
       "</table>\n",
       "</div>"
      ],
      "text/plain": [
       "            distance  average_speed\n",
       "start_date                         \n",
       "2021-05-07    7421.4          3.116\n",
       "2021-05-05    3973.0          3.201\n",
       "2021-04-29    4821.2          3.412\n",
       "2021-04-22   10128.9          2.968\n",
       "2021-04-16    4798.3          3.124\n",
       "2021-04-12    6101.6          3.102\n",
       "2021-04-09    5086.4          2.994\n",
       "2021-04-05    6107.2          3.006\n",
       "2021-03-31    7058.6          3.146\n",
       "2021-03-27    4063.9          2.717\n",
       "2021-03-25    8151.4          2.928"
      ]
     },
     "execution_count": 36,
     "metadata": {},
     "output_type": "execute_result"
    }
   ],
   "source": [
    "X_run"
   ]
  },
  {
   "cell_type": "code",
   "execution_count": 37,
   "id": "a08142db-13d6-4777-a96b-2d4a961ca1f9",
   "metadata": {},
   "outputs": [
    {
     "data": {
      "text/html": [
       "<div>\n",
       "<style scoped>\n",
       "    .dataframe tbody tr th:only-of-type {\n",
       "        vertical-align: middle;\n",
       "    }\n",
       "\n",
       "    .dataframe tbody tr th {\n",
       "        vertical-align: top;\n",
       "    }\n",
       "\n",
       "    .dataframe thead th {\n",
       "        text-align: right;\n",
       "    }\n",
       "</style>\n",
       "<table border=\"1\" class=\"dataframe\">\n",
       "  <thead>\n",
       "    <tr style=\"text-align: right;\">\n",
       "      <th></th>\n",
       "      <th>distance</th>\n",
       "      <th>average_speed</th>\n",
       "    </tr>\n",
       "    <tr>\n",
       "      <th>start_date</th>\n",
       "      <th></th>\n",
       "      <th></th>\n",
       "    </tr>\n",
       "  </thead>\n",
       "  <tbody>\n",
       "    <tr>\n",
       "      <th>2021-05-01</th>\n",
       "      <td>61663.6</td>\n",
       "      <td>7.549</td>\n",
       "    </tr>\n",
       "    <tr>\n",
       "      <th>2021-04-30</th>\n",
       "      <td>39816.8</td>\n",
       "      <td>7.154</td>\n",
       "    </tr>\n",
       "    <tr>\n",
       "      <th>2021-04-27</th>\n",
       "      <td>31340.1</td>\n",
       "      <td>7.086</td>\n",
       "    </tr>\n",
       "    <tr>\n",
       "      <th>2021-04-24</th>\n",
       "      <td>146620.0</td>\n",
       "      <td>8.062</td>\n",
       "    </tr>\n",
       "    <tr>\n",
       "      <th>2021-04-20</th>\n",
       "      <td>32460.5</td>\n",
       "      <td>7.223</td>\n",
       "    </tr>\n",
       "    <tr>\n",
       "      <th>2021-04-15</th>\n",
       "      <td>19396.2</td>\n",
       "      <td>6.980</td>\n",
       "    </tr>\n",
       "    <tr>\n",
       "      <th>2021-04-15</th>\n",
       "      <td>22206.4</td>\n",
       "      <td>7.642</td>\n",
       "    </tr>\n",
       "    <tr>\n",
       "      <th>2021-04-14</th>\n",
       "      <td>31791.7</td>\n",
       "      <td>7.282</td>\n",
       "    </tr>\n",
       "    <tr>\n",
       "      <th>2021-04-10</th>\n",
       "      <td>39884.2</td>\n",
       "      <td>7.145</td>\n",
       "    </tr>\n",
       "    <tr>\n",
       "      <th>2021-04-08</th>\n",
       "      <td>25946.5</td>\n",
       "      <td>8.319</td>\n",
       "    </tr>\n",
       "    <tr>\n",
       "      <th>2021-04-07</th>\n",
       "      <td>23067.0</td>\n",
       "      <td>7.806</td>\n",
       "    </tr>\n",
       "    <tr>\n",
       "      <th>2021-04-03</th>\n",
       "      <td>18297.0</td>\n",
       "      <td>7.471</td>\n",
       "    </tr>\n",
       "    <tr>\n",
       "      <th>2021-04-03</th>\n",
       "      <td>94030.4</td>\n",
       "      <td>7.632</td>\n",
       "    </tr>\n",
       "    <tr>\n",
       "      <th>2021-04-01</th>\n",
       "      <td>32128.9</td>\n",
       "      <td>8.858</td>\n",
       "    </tr>\n",
       "    <tr>\n",
       "      <th>2021-04-01</th>\n",
       "      <td>33115.1</td>\n",
       "      <td>8.588</td>\n",
       "    </tr>\n",
       "    <tr>\n",
       "      <th>2021-03-30</th>\n",
       "      <td>31366.8</td>\n",
       "      <td>8.145</td>\n",
       "    </tr>\n",
       "    <tr>\n",
       "      <th>2021-03-28</th>\n",
       "      <td>36624.2</td>\n",
       "      <td>8.322</td>\n",
       "    </tr>\n",
       "    <tr>\n",
       "      <th>2021-03-24</th>\n",
       "      <td>30472.9</td>\n",
       "      <td>7.655</td>\n",
       "    </tr>\n",
       "  </tbody>\n",
       "</table>\n",
       "</div>"
      ],
      "text/plain": [
       "            distance  average_speed\n",
       "start_date                         \n",
       "2021-05-01   61663.6          7.549\n",
       "2021-04-30   39816.8          7.154\n",
       "2021-04-27   31340.1          7.086\n",
       "2021-04-24  146620.0          8.062\n",
       "2021-04-20   32460.5          7.223\n",
       "2021-04-15   19396.2          6.980\n",
       "2021-04-15   22206.4          7.642\n",
       "2021-04-14   31791.7          7.282\n",
       "2021-04-10   39884.2          7.145\n",
       "2021-04-08   25946.5          8.319\n",
       "2021-04-07   23067.0          7.806\n",
       "2021-04-03   18297.0          7.471\n",
       "2021-04-03   94030.4          7.632\n",
       "2021-04-01   32128.9          8.858\n",
       "2021-04-01   33115.1          8.588\n",
       "2021-03-30   31366.8          8.145\n",
       "2021-03-28   36624.2          8.322\n",
       "2021-03-24   30472.9          7.655"
      ]
     },
     "execution_count": 37,
     "metadata": {},
     "output_type": "execute_result"
    }
   ],
   "source": [
    "X_ride"
   ]
  },
  {
   "cell_type": "code",
   "execution_count": 38,
   "id": "ed6b58e1-daec-4154-8fda-4f8d521ad59e",
   "metadata": {},
   "outputs": [],
   "source": [
    "\n",
    "scaler = StandardScaler()"
   ]
  },
  {
   "cell_type": "code",
   "execution_count": 39,
   "id": "89daf154-79c5-4a6a-96ec-f9322267dcb8",
   "metadata": {},
   "outputs": [],
   "source": [
    "X_run= scaler.fit_transform(X_run)\n",
    "X_ride=scaler.fit_transform(X_ride)"
   ]
  },
  {
   "cell_type": "code",
   "execution_count": null,
   "id": "fec3c2c3-3ae7-40a4-8d97-fd0c53c6773f",
   "metadata": {},
   "outputs": [],
   "source": []
  },
  {
   "cell_type": "code",
   "execution_count": 40,
   "id": "fa7b0895-d9a8-4507-a39a-54f2cd018c4a",
   "metadata": {},
   "outputs": [
    {
     "data": {
      "image/png": "[encoded data removed]",
      "text/plain": [
       "<Figure size 432x288 with 1 Axes>"
      ]
     },
     "metadata": {},
     "output_type": "display_data"
    }
   ],
   "source": [
    "wcss = []\n",
    "for i in range(1, 11):\n",
    "    run_kmeans = KMeans(n_clusters = i, random_state = 0)\n",
    "    run_kmeans.fit(X_run)\n",
    "    wcss.append(run_kmeans.inertia_)\n",
    "plt.plot(range(1, 11), wcss)\n",
    "plt.show()"
   ]
  },
  {
   "cell_type": "code",
   "execution_count": 41,
   "id": "52e46e15-85c5-4f3f-8254-ed6f78b25392",
   "metadata": {},
   "outputs": [],
   "source": [
    "run_kmeans = KMeans(n_clusters = 4, random_state = 0)\n",
    "y_run_pred = run_kmeans.fit_predict(X_run)"
   ]
  },
  {
   "cell_type": "code",
   "execution_count": 42,
   "id": "884eca38-7d15-48aa-b1b4-af64ecbe5a80",
   "metadata": {},
   "outputs": [],
   "source": [
    "center=run_kmeans.cluster_centers_\n",
    "labels=run_kmeans.labels_"
   ]
  },
  {
   "cell_type": "code",
   "execution_count": 43,
   "id": "d31cdde8-f98d-4d50-b0d8-a93b91cd0b95",
   "metadata": {},
   "outputs": [
    {
     "data": {
      "image/png": "[encoded data removed]",
      "text/plain": [
       "<Figure size 432x288 with 1 Axes>"
      ]
     },
     "metadata": {},
     "output_type": "display_data"
    }
   ],
   "source": [
    "plt.scatter(X_run[y_run_pred == 0, 0], X_run[y_run_pred == 0, 1], s = 100, c = \"red\", label = \"Cluster 1\")\n",
    "plt.scatter(X_run[y_run_pred == 1, 0], X_run[y_run_pred == 1, 1], s = 100, c = \"orange\", label = \"Cluster 2\")\n",
    "plt.scatter(X_run[y_run_pred == 2, 0], X_run[y_run_pred == 2, 1], s = 100, c = \"green\", label = \"Cluster 3\")\n",
    "plt.scatter(X_run[y_run_pred == 3, 0], X_run[y_run_pred == 3, 1], s = 100, c = \"yellow\", label = \"Cluster 4\")\n",
    "\n",
    "plt.savefig('X_run_two_variables.png')\n"
   ]
  },
  {
   "cell_type": "code",
   "execution_count": null,
   "id": "b4da99c6-44ca-4c47-be3b-774a971f9e3a",
   "metadata": {},
   "outputs": [],
   "source": []
  },
  {
   "cell_type": "code",
   "execution_count": 44,
   "id": "91927d1c-8bea-4fb2-9711-9650eb0c4094",
   "metadata": {},
   "outputs": [
    {
     "data": {
      "text/plain": [
       "[<matplotlib.lines.Line2D at 0x7fd8aa5f5c40>]"
      ]
     },
     "execution_count": 44,
     "metadata": {},
     "output_type": "execute_result"
    },
    {
     "data": {
      "image/png": "[encoded data removed]",
      "text/plain": [
       "<Figure size 432x288 with 1 Axes>"
      ]
     },
     "metadata": {},
     "output_type": "display_data"
    }
   ],
   "source": [
    "wcss = []\n",
    "for i in range(1, 11):\n",
    "    ride_kmeans = KMeans(n_clusters = i, random_state = 0)\n",
    "    ride_kmeans.fit(X_ride)\n",
    "    wcss.append(ride_kmeans.inertia_)\n",
    "plt.plot(range(1, 11), wcss)"
   ]
  },
  {
   "cell_type": "code",
   "execution_count": 45,
   "id": "a0ec0c20-6956-4680-a632-835f09f445ec",
   "metadata": {},
   "outputs": [],
   "source": [
    "ride_kmeans = KMeans(n_clusters = 4, random_state = 0)\n",
    "y_ride_pred = ride_kmeans.fit_predict(X_ride)"
   ]
  },
  {
   "cell_type": "code",
   "execution_count": 46,
   "id": "ae6ffd40-5ebb-4ac4-a8d9-bfc9ba3cb614",
   "metadata": {},
   "outputs": [
    {
     "data": {
      "image/png": "[encoded data removed]",
      "text/plain": [
       "<Figure size 432x288 with 1 Axes>"
      ]
     },
     "metadata": {},
     "output_type": "display_data"
    }
   ],
   "source": [
    "plt.scatter(X_ride[y_ride_pred == 0, 0], X_ride[y_ride_pred == 0, 1], s = 100, c = \"red\", label = \"Cluster 1\")\n",
    "plt.scatter(X_ride[y_ride_pred == 1, 0], X_ride[y_ride_pred == 1, 1], s = 100, c = \"orange\", label = \"Cluster 2\")\n",
    "plt.scatter(X_ride[y_ride_pred == 2, 0], X_ride[y_ride_pred == 2, 1], s = 100, c = \"green\", label = \"Cluster 3\")\n",
    "plt.scatter(X_ride[y_ride_pred == 3, 0], X_ride[y_ride_pred == 3, 1], s = 100, c = \"yellow\", label = \"Cluster 4\")\n",
    "plt.savefig('X_ride_two_variables.png')\n"
   ]
  },
  {
   "cell_type": "code",
   "execution_count": null,
   "id": "094cf6cc-281c-4917-83dc-54af3e74c997",
   "metadata": {},
   "outputs": [],
   "source": []
  },
  {
   "cell_type": "code",
   "execution_count": null,
   "id": "9ddd9162-cfdf-489c-bca6-9bed865a86f4",
   "metadata": {},
   "outputs": [],
   "source": []
  }
 ],
 "metadata": {
  "kernelspec": {
   "display_name": "Python 3",
   "language": "python",
   "name": "python3"
  },
  "language_info": {
   "codemirror_mode": {
    "name": "ipython",
    "version": 3
   },
   "file_extension": ".py",
   "mimetype": "text/x-python",
   "name": "python",
   "nbconvert_exporter": "python",
   "pygments_lexer": "ipython3",
   "version": "3.8.5"
  }
 },
 "nbformat": 4,
 "nbformat_minor": 5
}
